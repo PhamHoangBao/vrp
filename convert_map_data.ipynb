{
 "cells": [
  {
   "cell_type": "code",
   "execution_count": 1,
   "metadata": {},
   "outputs": [],
   "source": [
    "import math\n",
    "from numpy import log as ln\n",
    "import pandas as pd"
   ]
  },
  {
   "cell_type": "code",
   "execution_count": 9,
   "metadata": {},
   "outputs": [
    {
     "name": "stdout",
     "output_type": "stream",
     "text": [
      "Collecting utm\n",
      "  Downloading utm-0.7.0.tar.gz (8.7 kB)\n",
      "Building wheels for collected packages: utm\n",
      "  Building wheel for utm (setup.py): started\n",
      "  Building wheel for utm (setup.py): finished with status 'done'\n",
      "  Created wheel for utm: filename=utm-0.7.0-py3-none-any.whl size=6108 sha256=6e60150f8b6505b83716d8c9486ebff4bfc2c48592149c233f066e2d74ab6b7b\n",
      "  Stored in directory: c:\\users\\hoang bao\\appdata\\local\\pip\\cache\\wheels\\ab\\8c\\43\\723355279387088dd6696089e77f9ddd242ba94e71a87c800f\n",
      "Successfully built utm\n",
      "Installing collected packages: utm\n",
      "Successfully installed utm-0.7.0\n"
     ]
    }
   ],
   "source": [
    "## CÁI NÀY CHẠY 1 LẦN THÔI\n",
    "! pip install utm"
   ]
  },
  {
   "cell_type": "code",
   "execution_count": 2,
   "metadata": {},
   "outputs": [],
   "source": [
    "mapWidth = 200\n",
    "mapHeight = 100"
   ]
  },
  {
   "cell_type": "code",
   "execution_count": 3,
   "metadata": {},
   "outputs": [],
   "source": [
    "def convertX(latitude, longitude):\n",
    "    x = (longitude + 180) * (mapWidth /360)\n",
    "    return x\n",
    "\n",
    "def convertY(latitude, longitude):\n",
    "    latRad = (latitude * math.pi) / 180\n",
    "    mercN = ln(math.tan((math.pi/4) + (latRad /2)))\n",
    "    y = (mapHeight/2) - (mapWidth * mercN/(2*math.pi))\n",
    "\n",
    "    return y"
   ]
  },
  {
   "cell_type": "code",
   "execution_count": 5,
   "metadata": {},
   "outputs": [],
   "source": [
    "data = pd.read_excel ('./Data-Ministop.xlsx', engine='openpyxl') \n",
    "df = pd.DataFrame(data, columns= ['Latitude','Longitude','x','y'])\n",
    "df = df.reset_index() "
   ]
  },
  {
   "cell_type": "code",
   "execution_count": 6,
   "metadata": {},
   "outputs": [
    {
     "data": {
      "text/html": [
       "<div>\n",
       "<style scoped>\n",
       "    .dataframe tbody tr th:only-of-type {\n",
       "        vertical-align: middle;\n",
       "    }\n",
       "\n",
       "    .dataframe tbody tr th {\n",
       "        vertical-align: top;\n",
       "    }\n",
       "\n",
       "    .dataframe thead th {\n",
       "        text-align: right;\n",
       "    }\n",
       "</style>\n",
       "<table border=\"1\" class=\"dataframe\">\n",
       "  <thead>\n",
       "    <tr style=\"text-align: right;\">\n",
       "      <th></th>\n",
       "      <th>index</th>\n",
       "      <th>Latitude</th>\n",
       "      <th>Longitude</th>\n",
       "      <th>x</th>\n",
       "      <th>y</th>\n",
       "    </tr>\n",
       "  </thead>\n",
       "  <tbody>\n",
       "    <tr>\n",
       "      <th>0</th>\n",
       "      <td>0</td>\n",
       "      <td>10.880235</td>\n",
       "      <td>106.748482</td>\n",
       "      <td>NaN</td>\n",
       "      <td>NaN</td>\n",
       "    </tr>\n",
       "    <tr>\n",
       "      <th>1</th>\n",
       "      <td>1</td>\n",
       "      <td>10.843638</td>\n",
       "      <td>106.771634</td>\n",
       "      <td>NaN</td>\n",
       "      <td>NaN</td>\n",
       "    </tr>\n",
       "    <tr>\n",
       "      <th>2</th>\n",
       "      <td>2</td>\n",
       "      <td>10.866119</td>\n",
       "      <td>106.802920</td>\n",
       "      <td>NaN</td>\n",
       "      <td>NaN</td>\n",
       "    </tr>\n",
       "    <tr>\n",
       "      <th>3</th>\n",
       "      <td>3</td>\n",
       "      <td>10.803579</td>\n",
       "      <td>106.747573</td>\n",
       "      <td>NaN</td>\n",
       "      <td>NaN</td>\n",
       "    </tr>\n",
       "    <tr>\n",
       "      <th>4</th>\n",
       "      <td>4</td>\n",
       "      <td>10.797815</td>\n",
       "      <td>106.742846</td>\n",
       "      <td>NaN</td>\n",
       "      <td>NaN</td>\n",
       "    </tr>\n",
       "    <tr>\n",
       "      <th>...</th>\n",
       "      <td>...</td>\n",
       "      <td>...</td>\n",
       "      <td>...</td>\n",
       "      <td>...</td>\n",
       "      <td>...</td>\n",
       "    </tr>\n",
       "    <tr>\n",
       "      <th>109</th>\n",
       "      <td>109</td>\n",
       "      <td>10.761753</td>\n",
       "      <td>106.648353</td>\n",
       "      <td>NaN</td>\n",
       "      <td>NaN</td>\n",
       "    </tr>\n",
       "    <tr>\n",
       "      <th>110</th>\n",
       "      <td>110</td>\n",
       "      <td>10.767659</td>\n",
       "      <td>106.648996</td>\n",
       "      <td>NaN</td>\n",
       "      <td>NaN</td>\n",
       "    </tr>\n",
       "    <tr>\n",
       "      <th>111</th>\n",
       "      <td>111</td>\n",
       "      <td>10.759942</td>\n",
       "      <td>106.655143</td>\n",
       "      <td>NaN</td>\n",
       "      <td>NaN</td>\n",
       "    </tr>\n",
       "    <tr>\n",
       "      <th>112</th>\n",
       "      <td>112</td>\n",
       "      <td>10.758846</td>\n",
       "      <td>106.641508</td>\n",
       "      <td>NaN</td>\n",
       "      <td>NaN</td>\n",
       "    </tr>\n",
       "    <tr>\n",
       "      <th>113</th>\n",
       "      <td>113</td>\n",
       "      <td>10.800061</td>\n",
       "      <td>106.715614</td>\n",
       "      <td>NaN</td>\n",
       "      <td>NaN</td>\n",
       "    </tr>\n",
       "  </tbody>\n",
       "</table>\n",
       "<p>114 rows × 5 columns</p>\n",
       "</div>"
      ],
      "text/plain": [
       "     index   Latitude   Longitude   x   y\n",
       "0        0  10.880235  106.748482 NaN NaN\n",
       "1        1  10.843638  106.771634 NaN NaN\n",
       "2        2  10.866119  106.802920 NaN NaN\n",
       "3        3  10.803579  106.747573 NaN NaN\n",
       "4        4  10.797815  106.742846 NaN NaN\n",
       "..     ...        ...         ...  ..  ..\n",
       "109    109  10.761753  106.648353 NaN NaN\n",
       "110    110  10.767659  106.648996 NaN NaN\n",
       "111    111  10.759942  106.655143 NaN NaN\n",
       "112    112  10.758846  106.641508 NaN NaN\n",
       "113    113  10.800061  106.715614 NaN NaN\n",
       "\n",
       "[114 rows x 5 columns]"
      ]
     },
     "execution_count": 6,
     "metadata": {},
     "output_type": "execute_result"
    }
   ],
   "source": [
    "df"
   ]
  },
  {
   "cell_type": "code",
   "execution_count": 8,
   "metadata": {},
   "outputs": [],
   "source": [
    "for i in range(len(df)) :\n",
    "  df.loc[i, \"x\"] = convertX(df.loc[i, \"Latitude\"], df.loc[i, \"Longitude\"])\n",
    "  df.loc[i, \"y\"] = convertY(df.loc[i, \"Latitude\"], df.loc[i, \"Longitude\"])\n",
    "\n",
    "writer = pd.ExcelWriter('./Data-Ministop_new.xlsx')\n",
    "\n",
    "df.to_excel(writer, sheet_name='Sheet1')\n",
    "\n",
    "writer.save()"
   ]
  },
  {
   "cell_type": "code",
   "execution_count": null,
   "metadata": {},
   "outputs": [],
   "source": []
  }
 ],
 "metadata": {
  "kernelspec": {
   "display_name": "Python 3.6.13 ('monigate')",
   "language": "python",
   "name": "python3"
  },
  "language_info": {
   "codemirror_mode": {
    "name": "ipython",
    "version": 3
   },
   "file_extension": ".py",
   "mimetype": "text/x-python",
   "name": "python",
   "nbconvert_exporter": "python",
   "pygments_lexer": "ipython3",
   "version": "3.6.13"
  },
  "orig_nbformat": 4,
  "vscode": {
   "interpreter": {
    "hash": "f1d2db5728455cace62d71bb797d872179f0b03bf9c6d31e6d91ff5e9bbdaa30"
   }
  }
 },
 "nbformat": 4,
 "nbformat_minor": 2
}
