{
 "cells": [
  {
   "cell_type": "code",
   "execution_count": 9,
   "metadata": {},
   "outputs": [],
   "source": [
    "import pandas as pd\n",
    "import numpy as np\n",
    "import matplotlib.pyplot as plt\n",
    "import random\n",
    "from matplotlib.pyplot import figure\n",
    "from fuzzy import run_fuzzy_c_means, plot_points"
   ]
  },
  {
   "cell_type": "code",
   "execution_count": 10,
   "metadata": {},
   "outputs": [],
   "source": [
    "from sklearn.cluster import KMeans\n",
    "from fcmeans import FCM"
   ]
  },
  {
   "cell_type": "code",
   "execution_count": 11,
   "metadata": {},
   "outputs": [],
   "source": [
    "dataframe = pd.read_csv(\"D:\\\\Logistic_code\\\\code\\\\vrp\\\\clustering\\\\fuzzy_c_mean\\\\data2.csv\")"
   ]
  },
  {
   "cell_type": "code",
   "execution_count": null,
   "metadata": {},
   "outputs": [],
   "source": [
    "dataframe\n"
   ]
  },
  {
   "cell_type": "code",
   "execution_count": 12,
   "metadata": {},
   "outputs": [],
   "source": [
    "data = dataframe.to_numpy()"
   ]
  },
  {
   "cell_type": "markdown",
   "metadata": {},
   "source": [
    "## Fuzzy Impl"
   ]
  },
  {
   "cell_type": "code",
   "execution_count": null,
   "metadata": {},
   "outputs": [],
   "source": [
    "def supervised_fuzzy_c_mean_clustering(num_cluster:int, data:np.ndarray, capacity:int):\n",
    "    \"\"\"\n",
    "        num_cluster: number of vehicles. Can be increased if demand exceeds capacity\n",
    "        data: data point and demand. Shape: [K, 3] with K is number of data point. Each row is (lat, lon, demand)\n",
    "        capacity : vehicle capacity\n",
    "    \"\"\"\n",
    "    cluster_center, weight_matrix, cluster_labels = None, None, None\n",
    "    flag = True\n",
    "    while flag:\n",
    "        print(f\"---------------Starting clustering with {num_cluster} vehicles---------------\")\n",
    "        ## Clustering\n",
    "        my_model = FCM(n_clusters=num_cluster, max_iter=500) \n",
    "        my_model.fit(data[:,:2]) \n",
    "        cluster_center = my_model.centers\n",
    "        cluster_labels = my_model.predict(data[:,:2])\n",
    "        # cluster_center, weight_matrix, cluster_labels = fuzzy_c_means_clustering(num_cluster, data[:,:2])\n",
    "        ## Check demand in each clusters\n",
    "        is_exceeds = False\n",
    "        for i in range(num_cluster):\n",
    "            demand = np.sum(data[cluster_labels == i][:,2:3])\n",
    "            if demand > capacity:\n",
    "                print(f\"Demand exceed at cluster {i} ({demand} > {capacity}). Increaseing number of vehicle to 1\")\n",
    "                is_exceeds = True\n",
    "                num_cluster = num_cluster + 1\n",
    "                break\n",
    "        if not is_exceeds:\n",
    "            flag = False\n",
    "            print(f\"Finishing clustering with number of vehicles {num_cluster}\")\n",
    "\n",
    "    return cluster_center, weight_matrix, cluster_labels, num_cluster"
   ]
  },
  {
   "cell_type": "code",
   "execution_count": null,
   "metadata": {},
   "outputs": [],
   "source": [
    "def supervised_k_mean_clustering(num_cluster:int, data:np.ndarray, capacity:int):\n",
    "    \"\"\"\n",
    "        num_cluster: number of vehicles. Can be increased if demand exceeds capacity\n",
    "        data: data point and demand. Shape: [K, 3] with K is number of data point. Each row is (lat, lon, demand)\n",
    "        capacity : vehicle capacity\n",
    "    \"\"\"\n",
    "    cluster_center, weight_matrix, cluster_labels = None, None, None\n",
    "    flag = True\n",
    "    while flag:\n",
    "        print(f\"---------------Starting clustering with {num_cluster} vehicles---------------\")\n",
    "        ## Clustering\n",
    "        kmeans = KMeans(n_clusters=num_cluster, random_state=0, max_iter=1000).fit(data[:,:2]) \n",
    "        cluster_center = kmeans.cluster_centers_\n",
    "        cluster_labels = kmeans.labels_\n",
    "        # cluster_center, weight_matrix, cluster_labels = fuzzy_c_means_clustering(num_cluster, data[:,:2])\n",
    "        ## Check demand in each clusters\n",
    "        is_exceeds = False\n",
    "        for i in range(num_cluster):\n",
    "            demand = np.sum(data[cluster_labels == i][:,2:3])\n",
    "            if demand > capacity:\n",
    "                print(f\"Demand exceed at cluster {i} ({demand} > {capacity}). Increaseing number of vehicle to 1\")\n",
    "                is_exceeds = True\n",
    "                num_cluster = num_cluster + 1\n",
    "                break\n",
    "        if not is_exceeds:\n",
    "            flag = False\n",
    "            print(f\"Finishing clustering with number of vehicles {num_cluster}\")\n",
    "\n",
    "    return cluster_center, weight_matrix, cluster_labels, num_cluster"
   ]
  },
  {
   "cell_type": "code",
   "execution_count": null,
   "metadata": {},
   "outputs": [],
   "source": [
    "cluster_center, weight_matrix, cluster_labels, num_cluster = supervised_fuzzy_c_mean_clustering(10, data, 66)"
   ]
  },
  {
   "cell_type": "code",
   "execution_count": null,
   "metadata": {},
   "outputs": [],
   "source": [
    "data"
   ]
  },
  {
   "cell_type": "code",
   "execution_count": null,
   "metadata": {},
   "outputs": [],
   "source": [
    "cluster_2 = cluster_center[cluster_labels]"
   ]
  },
  {
   "cell_type": "code",
   "execution_count": null,
   "metadata": {},
   "outputs": [],
   "source": [
    "a = np.array(\n",
    "    [\n",
    "        [3, 5],\n",
    "        [6, 9],\n",
    "        [10, 12],\n",
    "        [15, 14]\n",
    "    ]\n",
    ")\n",
    "b = np.array(\n",
    "    [\n",
    "        [1, 5],\n",
    "        [2, 9],\n",
    "        [18, 15],\n",
    "        [13, 16]\n",
    "    ]\n",
    ")"
   ]
  },
  {
   "cell_type": "code",
   "execution_count": null,
   "metadata": {},
   "outputs": [],
   "source": [
    "np.sqrt(np.sum((a - b) ** 2, axis= 1))"
   ]
  },
  {
   "cell_type": "code",
   "execution_count": null,
   "metadata": {},
   "outputs": [],
   "source": [
    "cluster_labels"
   ]
  },
  {
   "cell_type": "code",
   "execution_count": null,
   "metadata": {},
   "outputs": [],
   "source": [
    "cluster_center"
   ]
  },
  {
   "cell_type": "code",
   "execution_count": null,
   "metadata": {},
   "outputs": [],
   "source": [
    "np.argwhere(cluster_labels == cluster_labels[5])"
   ]
  },
  {
   "cell_type": "code",
   "execution_count": null,
   "metadata": {},
   "outputs": [],
   "source": [
    "cluster_labels[5]\n"
   ]
  },
  {
   "cell_type": "code",
   "execution_count": null,
   "metadata": {},
   "outputs": [],
   "source": [
    "def plot_points(cluster_labels:np.ndarray, cluster_center:np.ndarray, data:np.ndarray):\n",
    "    figure(figsize=(14, 12), dpi=80)\n",
    "    cluster_label_unique_len = len(np.unique(cluster_labels))\n",
    "    cluster_color = np.random.rand(cluster_label_unique_len, 3)  \n",
    "\n",
    "    ## Plot point\n",
    "    point_color = cluster_color[cluster_labels]\n",
    "    for i in range(data.shape[0]):\n",
    "        point = data[i]\n",
    "        plt.scatter(point[0], point[1], marker=\"o\", c=[point_color[i]])\n",
    "\n",
    "     ## plot cluster center\n",
    "    plt.scatter(cluster_center[:,0], cluster_center[:,1], marker=\"x\", c=[[0,0,0]])\n",
    "\n",
    "    plt.show()"
   ]
  },
  {
   "cell_type": "code",
   "execution_count": null,
   "metadata": {},
   "outputs": [],
   "source": [
    "plot_points(cluster_labels, cluster_center, data[:,:2])\n"
   ]
  },
  {
   "cell_type": "code",
   "execution_count": null,
   "metadata": {},
   "outputs": [],
   "source": []
  },
  {
   "cell_type": "markdown",
   "metadata": {},
   "source": [
    "## Library testing"
   ]
  },
  {
   "cell_type": "code",
   "execution_count": 5,
   "metadata": {},
   "outputs": [
    {
     "name": "stdout",
     "output_type": "stream",
     "text": [
      "---------------Starting clustering with 10 vehicles---------------\n",
      "Demand exceed at cluster 2 (121 > 66). Increaseing number of vehicle to 1\n",
      "---------------Starting clustering with 11 vehicles---------------\n",
      "Demand exceed at cluster 0 (70 > 66). Increaseing number of vehicle to 1\n",
      "---------------Starting clustering with 12 vehicles---------------\n",
      "Demand exceed at cluster 0 (74 > 66). Increaseing number of vehicle to 1\n",
      "---------------Starting clustering with 13 vehicles---------------\n",
      "Demand exceed at cluster 4 (93 > 66). Increaseing number of vehicle to 1\n",
      "---------------Starting clustering with 14 vehicles---------------\n",
      "Demand exceed at cluster 0 (68 > 66). Increaseing number of vehicle to 1\n",
      "---------------Starting clustering with 15 vehicles---------------\n",
      "Demand exceed at cluster 8 (70 > 66). Increaseing number of vehicle to 1\n",
      "---------------Starting clustering with 16 vehicles---------------\n",
      "Demand exceed at cluster 8 (74 > 66). Increaseing number of vehicle to 1\n",
      "---------------Starting clustering with 17 vehicles---------------\n",
      "Demand exceed at cluster 8 (73 > 66). Increaseing number of vehicle to 1\n",
      "---------------Starting clustering with 18 vehicles---------------\n",
      "Demand exceed at cluster 9 (68 > 66). Increaseing number of vehicle to 1\n",
      "---------------Starting clustering with 19 vehicles---------------\n",
      "Demand exceed at cluster 0 (87 > 66). Increaseing number of vehicle to 1\n",
      "---------------Starting clustering with 20 vehicles---------------\n",
      "Demand exceed at cluster 19 (86 > 66). Increaseing number of vehicle to 1\n",
      "---------------Starting clustering with 21 vehicles---------------\n",
      "Finishing clustering with number of vehicles 21\n"
     ]
    }
   ],
   "source": [
    "cluster_center, cluster_labels, num_cluster, distance_data = run_fuzzy_c_means(\n",
    "        10, \n",
    "        data, \n",
    "        66\n",
    "    )"
   ]
  },
  {
   "cell_type": "code",
   "execution_count": 7,
   "metadata": {},
   "outputs": [
    {
     "data": {
      "text/plain": [
       "array([[798.77086973, 180.56359097],\n",
       "       [100.35272572, 687.76526519],\n",
       "       [445.60993417, 939.6325991 ],\n",
       "       [477.11926294, 829.04414848],\n",
       "       [519.39464442, 476.38808861],\n",
       "       [931.43240856,  23.43048323],\n",
       "       [534.92156411, 229.7339974 ],\n",
       "       [896.18676008, 304.82586246],\n",
       "       [936.24021872, 679.33756531],\n",
       "       [314.41340233, 326.00682674],\n",
       "       [325.62550662, 679.93251236],\n",
       "       [125.30487738, 914.21429889],\n",
       "       [475.37295605, 702.54169278],\n",
       "       [672.90386008, 686.77079726],\n",
       "       [806.19188734, 493.68796857],\n",
       "       [615.94957369, 573.38622828],\n",
       "       [672.27226322,  93.31299545],\n",
       "       [756.64315344, 955.69651641],\n",
       "       [814.79323328, 684.66830228],\n",
       "       [118.54621512, 143.27294769],\n",
       "       [146.67072923, 502.17857282]])"
      ]
     },
     "execution_count": 7,
     "metadata": {},
     "output_type": "execute_result"
    }
   ],
   "source": [
    "cluster_center"
   ]
  },
  {
   "cell_type": "code",
   "execution_count": 8,
   "metadata": {},
   "outputs": [
    {
     "data": {
      "text/plain": [
       "array([ 4, 14, 10, 15,  2, 13, 12,  5,  6,  2,  6, 13,  9,  0,  4, 17,  7,\n",
       "       20, 12,  9,  8, 19, 11,  0,  3,  3, 17, 20, 20,  7, 10, 20, 14,  2,\n",
       "       18, 16,  1,  5, 15, 20,  6,  9,  8,  1,  7, 18, 13,  6, 16,  4,  9,\n",
       "       18,  9, 17,  9,  2,  3,  0,  9, 20, 11, 11,  6,  6,  1,  1, 17, 18,\n",
       "        9, 12,  7, 10, 19, 16,  8, 19, 11, 13,  7, 14, 10,  5,  0, 11,  3,\n",
       "       18, 16, 17, 19, 18,  7, 15,  8,  1,  5, 20, 19,  8, 17,  1,  6,  2,\n",
       "        2,  3, 11, 14,  8,  0, 15, 12], dtype=int64)"
      ]
     },
     "execution_count": 8,
     "metadata": {},
     "output_type": "execute_result"
    }
   ],
   "source": [
    "cluster_labels"
   ]
  },
  {
   "cell_type": "code",
   "execution_count": 6,
   "metadata": {},
   "outputs": [
    {
     "data": {
      "text/plain": [
       "array([[ 500.        ,  500.        ,    0.        ,    4.        ,\n",
       "          30.55608927],\n",
       "       [ 740.        ,  442.        ,    8.        ,   14.        ,\n",
       "          83.98221267],\n",
       "       [ 261.        ,  710.        ,   10.        ,   10.        ,\n",
       "          71.27769581],\n",
       "       [ 578.        ,  522.        ,    8.        ,   15.        ,\n",
       "          63.8804712 ],\n",
       "       [ 482.        ,  914.        ,    5.        ,    2.        ,\n",
       "          44.5114258 ],\n",
       "       [ 628.        ,  644.        ,   10.        ,   13.        ,\n",
       "          62.01369001],\n",
       "       [ 551.        ,  651.        ,    5.        ,   12.        ,\n",
       "          91.52046695],\n",
       "       [ 828.        ,   54.        ,    9.        ,    5.        ,\n",
       "         107.85526643],\n",
       "       [ 541.        ,  270.        ,   10.        ,    6.        ,\n",
       "          40.72220952],\n",
       "       [ 450.        , 1000.        ,    6.        ,    2.        ,\n",
       "          60.5268186 ],\n",
       "       [ 521.        ,  127.        ,    5.        ,    6.        ,\n",
       "         103.6729674 ],\n",
       "       [ 738.        ,  809.        ,   10.        ,   13.        ,\n",
       "         138.48279833],\n",
       "       [ 323.        ,  289.        ,    5.        ,    9.        ,\n",
       "          37.98993136],\n",
       "       [ 803.        ,  214.        ,    9.        ,    0.        ,\n",
       "          33.70280391],\n",
       "       [ 556.        ,  488.        ,   10.        ,    4.        ,\n",
       "          38.40297571],\n",
       "       [ 758.        ,  937.        ,    7.        ,   17.        ,\n",
       "          18.7456864 ],\n",
       "       [ 875.        ,  326.        ,    9.        ,    7.        ,\n",
       "          29.95367929],\n",
       "       [ 113.        ,  509.        ,    7.        ,   20.        ,\n",
       "          34.35476496],\n",
       "       [ 491.        ,  726.        ,    8.        ,   12.        ,\n",
       "          28.18681749],\n",
       "       [ 415.        ,  355.        ,    5.        ,    9.        ,\n",
       "         104.68174495],\n",
       "       [ 946.        ,  632.        ,    8.        ,    8.        ,\n",
       "          48.33320204],\n",
       "       [ 136.        ,  120.        ,   10.        ,   19.        ,\n",
       "          29.09062909],\n",
       "       [ 117.        ,  971.        ,    6.        ,   11.        ,\n",
       "          57.38977991],\n",
       "       [ 817.        ,  246.        ,    8.        ,    0.        ,\n",
       "          67.92808562],\n",
       "       [ 491.        ,  845.        ,    7.        ,    3.        ,\n",
       "          21.14861837],\n",
       "       [ 454.        ,  801.        ,    6.        ,    3.        ,\n",
       "          36.34521403],\n",
       "       [ 676.        ,  995.        ,    7.        ,   17.        ,\n",
       "          89.7111031 ],\n",
       "       [ 145.        ,  557.        ,    5.        ,   20.        ,\n",
       "          54.84687972],\n",
       "       [ 166.        ,  494.        ,   10.        ,   20.        ,\n",
       "          20.98832442],\n",
       "       [ 977.        ,  318.        ,   10.        ,    7.        ,\n",
       "          81.88001983],\n",
       "       [ 363.        ,  711.        ,    5.        ,   10.        ,\n",
       "          48.60083891],\n",
       "       [ 164.        ,  501.        ,    7.        ,   20.        ,\n",
       "          17.36930222],\n",
       "       [ 833.        ,  501.        ,    5.        ,   14.        ,\n",
       "          27.78741996],\n",
       "       [ 444.        ,  958.        ,   10.        ,    2.        ,\n",
       "          18.43782265],\n",
       "       [ 828.        ,  672.        ,    6.        ,   18.        ,\n",
       "          18.30039808],\n",
       "       [ 714.        ,   57.        ,    7.        ,   16.        ,\n",
       "          55.31579933],\n",
       "       [  51.        ,  676.        ,    9.        ,    1.        ,\n",
       "          50.73571721],\n",
       "       [ 922.        ,   16.        ,    7.        ,    5.        ,\n",
       "          12.0075981 ],\n",
       "       [ 673.        ,  571.        ,    7.        ,   15.        ,\n",
       "          57.10030847],\n",
       "       [ 211.        ,  471.        ,    6.        ,   20.        ,\n",
       "          71.48677137],\n",
       "       [ 590.        ,  220.        ,    7.        ,    6.        ,\n",
       "          55.93196587],\n",
       "       [ 305.        ,  311.        ,   10.        ,    9.        ,\n",
       "          17.71488053],\n",
       "       [ 953.        ,  745.        ,    8.        ,    8.        ,\n",
       "          67.76758516],\n",
       "       [ 154.        ,  753.        ,   10.        ,    1.        ,\n",
       "          84.46064565],\n",
       "       [ 918.        ,  227.        ,    6.        ,    7.        ,\n",
       "          80.82501038],\n",
       "       [ 819.        ,  671.        ,   10.        ,   18.        ,\n",
       "          14.301027  ],\n",
       "       [ 675.        ,  667.        ,    8.        ,   13.        ,\n",
       "          19.88160524],\n",
       "       [ 617.        ,  176.        ,    6.        ,    6.        ,\n",
       "          98.10306884],\n",
       "       [ 706.        ,  179.        ,   10.        ,   16.        ,\n",
       "          92.08595428],\n",
       "       [ 512.        ,  443.        ,    8.        ,    4.        ,\n",
       "          34.19715233],\n",
       "       [ 302.        ,  453.        ,   10.        ,    9.        ,\n",
       "         127.59842716],\n",
       "       [ 753.        ,  786.        ,   10.        ,   18.        ,\n",
       "         118.68663212],\n",
       "       [ 331.        ,  450.        ,    6.        ,    9.        ,\n",
       "         125.09765081],\n",
       "       [ 765.        ,  990.        ,    5.        ,   17.        ,\n",
       "          35.30673973],\n",
       "       [ 249.        ,  360.        ,    5.        ,    9.        ,\n",
       "          73.71871563],\n",
       "       [ 292.        ,  887.        ,   10.        ,    2.        ,\n",
       "         162.37672975],\n",
       "       [ 371.        ,  804.        ,    5.        ,    3.        ,\n",
       "         109.03443191],\n",
       "       [ 786.        ,  186.        ,   10.        ,    0.        ,\n",
       "          13.87982913],\n",
       "       [ 382.        ,  284.        ,    8.        ,    9.        ,\n",
       "          79.57714293],\n",
       "       [  44.        ,  552.        ,    8.        ,   20.        ,\n",
       "         114.12034545],\n",
       "       [ 107.        ,  895.        ,    5.        ,   11.        ,\n",
       "          26.53785632],\n",
       "       [ 108.        ,  928.        ,    6.        ,   11.        ,\n",
       "          22.12474488],\n",
       "       [ 523.        ,  264.        ,    7.        ,    6.        ,\n",
       "          36.28060949],\n",
       "       [ 397.        ,  120.        ,    8.        ,    6.        ,\n",
       "         176.24956179],\n",
       "       [  25.        ,  769.        ,    9.        ,    1.        ,\n",
       "         110.80214534],\n",
       "       [  98.        ,  623.        ,   10.        ,    1.        ,\n",
       "          64.8079848 ],\n",
       "       [ 946.        ,  978.        ,    8.        ,   17.        ,\n",
       "         190.66583521],\n",
       "       [ 815.        ,  696.        ,    5.        ,   18.        ,\n",
       "          11.33358398],\n",
       "       [ 314.        ,  361.        ,    6.        ,    9.        ,\n",
       "          34.9956151 ],\n",
       "       [ 447.        ,  695.        ,   10.        ,   12.        ,\n",
       "          29.35816352],\n",
       "       [ 878.        ,  243.        ,    8.        ,    7.        ,\n",
       "          64.44529083],\n",
       "       [ 341.        ,  648.        ,    5.        ,   10.        ,\n",
       "          35.44094232],\n",
       "       [ 363.        ,    0.        ,   10.        ,   19.        ,\n",
       "         283.34570843],\n",
       "       [ 675.        ,   83.        ,    9.        ,   16.        ,\n",
       "          10.66763437],\n",
       "       [ 998.        ,  520.        ,    7.        ,    8.        ,\n",
       "         170.88806366],\n",
       "       [  98.        ,  111.        ,    6.        ,   19.        ,\n",
       "          38.25820315],\n",
       "       [ 267.        ,  902.        ,    7.        ,   11.        ,\n",
       "         142.22059229],\n",
       "       [ 628.        ,  746.        ,    7.        ,   13.        ,\n",
       "          74.3266783 ],\n",
       "       [ 940.        ,  409.        ,    6.        ,    7.        ,\n",
       "         113.01261401],\n",
       "       [ 786.        ,  488.        ,    9.        ,   14.        ,\n",
       "          20.97773345],\n",
       "       [ 323.        ,  674.        ,    6.        ,   10.        ,\n",
       "           6.48752557],\n",
       "       [ 986.        ,  151.        ,   10.        ,    5.        ,\n",
       "         138.75014827],\n",
       "       [ 790.        ,  150.        ,    9.        ,    0.        ,\n",
       "          31.79718933],\n",
       "       [ 180.        ,  944.        ,   10.        ,   11.        ,\n",
       "          62.2795667 ],\n",
       "       [ 533.        ,  816.        ,    5.        ,    3.        ,\n",
       "          57.38298165],\n",
       "       [ 750.        ,  789.        ,    5.        ,   18.        ,\n",
       "         122.81394965],\n",
       "       [ 589.        ,  125.        ,    7.        ,   16.        ,\n",
       "          89.09734047],\n",
       "       [ 640.        ,  911.        ,    8.        ,   17.        ,\n",
       "         124.91358543],\n",
       "       [  99.        ,  216.        ,   10.        ,   19.        ,\n",
       "          75.30789244],\n",
       "       [ 754.        ,  659.        ,   10.        ,   18.        ,\n",
       "          65.98999132],\n",
       "       [ 828.        ,  357.        ,   10.        ,    7.        ,\n",
       "          85.85787604],\n",
       "       [ 597.        ,  587.        ,    8.        ,   15.        ,\n",
       "          23.33283359],\n",
       "       [ 929.        ,  655.        ,    9.        ,    8.        ,\n",
       "          25.39168864],\n",
       "       [ 159.        ,  781.        ,    6.        ,    1.        ,\n",
       "         110.14635062],\n",
       "       [ 955.        ,    6.        ,    6.        ,    5.        ,\n",
       "          29.31301949],\n",
       "       [  63.        ,  435.        ,    5.        ,   20.        ,\n",
       "         107.30215084],\n",
       "       [ 130.        ,  302.        ,    6.        ,   19.        ,\n",
       "         159.13976977],\n",
       "       [ 954.        ,  687.        ,    8.        ,    8.        ,\n",
       "          19.34225262],\n",
       "       [ 866.        ,  879.        ,    5.        ,   17.        ,\n",
       "         133.57123762],\n",
       "       [ 131.        ,  686.        ,    9.        ,    1.        ,\n",
       "          30.69807131],\n",
       "       [ 519.        ,  220.        ,    5.        ,    6.        ,\n",
       "          18.66137479],\n",
       "       [ 454.        ,  928.        ,    5.        ,    2.        ,\n",
       "          14.34261365],\n",
       "       [ 415.        ,  916.        ,    6.        ,    2.        ,\n",
       "          38.67127888],\n",
       "       [ 468.        ,  833.        ,    6.        ,    3.        ,\n",
       "           9.94030774],\n",
       "       [ 109.        ,  859.        ,    5.        ,   11.        ,\n",
       "          57.57141503],\n",
       "       [ 806.        ,  568.        ,    5.        ,   14.        ,\n",
       "          74.31227917],\n",
       "       [ 907.        ,  703.        ,    7.        ,    8.        ,\n",
       "          37.61517256],\n",
       "       [ 821.        ,  135.        ,    7.        ,    0.        ,\n",
       "          50.69689394],\n",
       "       [ 622.        ,  561.        ,    9.        ,   15.        ,\n",
       "          13.78500307],\n",
       "       [ 482.        ,  689.        ,    9.        ,   12.        ,\n",
       "          15.07631105]])"
      ]
     },
     "execution_count": 6,
     "metadata": {},
     "output_type": "execute_result"
    }
   ],
   "source": [
    "distance_data"
   ]
  },
  {
   "cell_type": "code",
   "execution_count": null,
   "metadata": {},
   "outputs": [],
   "source": []
  }
 ],
 "metadata": {
  "interpreter": {
   "hash": "f1d2db5728455cace62d71bb797d872179f0b03bf9c6d31e6d91ff5e9bbdaa30"
  },
  "kernelspec": {
   "display_name": "Python 3.6.13 ('monigate')",
   "language": "python",
   "name": "python3"
  },
  "language_info": {
   "codemirror_mode": {
    "name": "ipython",
    "version": 3
   },
   "file_extension": ".py",
   "mimetype": "text/x-python",
   "name": "python",
   "nbconvert_exporter": "python",
   "pygments_lexer": "ipython3",
   "version": "3.6.13"
  },
  "orig_nbformat": 4
 },
 "nbformat": 4,
 "nbformat_minor": 2
}
