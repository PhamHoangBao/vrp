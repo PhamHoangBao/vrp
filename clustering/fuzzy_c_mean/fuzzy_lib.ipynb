{
 "cells": [
  {
   "cell_type": "code",
   "execution_count": 1,
   "metadata": {},
   "outputs": [],
   "source": [
    "import pandas as pd\n",
    "import numpy as np\n",
    "import matplotlib.pyplot as plt\n",
    "import random\n",
    "from matplotlib.pyplot import figure"
   ]
  },
  {
   "cell_type": "code",
   "execution_count": 2,
   "metadata": {},
   "outputs": [],
   "source": [
    "from sklearn.cluster import KMeans\n",
    "from fcmeans import FCM"
   ]
  },
  {
   "cell_type": "code",
   "execution_count": 3,
   "metadata": {},
   "outputs": [],
   "source": [
    "dataframe = pd.read_csv(\"D:\\\\Logistic_code\\\\code\\\\vrp\\\\clustering\\\\fuzzy_c_mean\\\\data2.csv\")\n"
   ]
  },
  {
   "cell_type": "code",
   "execution_count": 4,
   "metadata": {},
   "outputs": [
    {
     "data": {
      "text/html": [
       "<div>\n",
       "<style scoped>\n",
       "    .dataframe tbody tr th:only-of-type {\n",
       "        vertical-align: middle;\n",
       "    }\n",
       "\n",
       "    .dataframe tbody tr th {\n",
       "        vertical-align: top;\n",
       "    }\n",
       "\n",
       "    .dataframe thead th {\n",
       "        text-align: right;\n",
       "    }\n",
       "</style>\n",
       "<table border=\"1\" class=\"dataframe\">\n",
       "  <thead>\n",
       "    <tr style=\"text-align: right;\">\n",
       "      <th></th>\n",
       "      <th>X</th>\n",
       "      <th>Y</th>\n",
       "      <th>Demand</th>\n",
       "    </tr>\n",
       "  </thead>\n",
       "  <tbody>\n",
       "    <tr>\n",
       "      <th>0</th>\n",
       "      <td>500</td>\n",
       "      <td>500</td>\n",
       "      <td>0</td>\n",
       "    </tr>\n",
       "    <tr>\n",
       "      <th>1</th>\n",
       "      <td>740</td>\n",
       "      <td>442</td>\n",
       "      <td>8</td>\n",
       "    </tr>\n",
       "    <tr>\n",
       "      <th>2</th>\n",
       "      <td>261</td>\n",
       "      <td>710</td>\n",
       "      <td>10</td>\n",
       "    </tr>\n",
       "    <tr>\n",
       "      <th>3</th>\n",
       "      <td>578</td>\n",
       "      <td>522</td>\n",
       "      <td>8</td>\n",
       "    </tr>\n",
       "    <tr>\n",
       "      <th>4</th>\n",
       "      <td>482</td>\n",
       "      <td>914</td>\n",
       "      <td>5</td>\n",
       "    </tr>\n",
       "    <tr>\n",
       "      <th>...</th>\n",
       "      <td>...</td>\n",
       "      <td>...</td>\n",
       "      <td>...</td>\n",
       "    </tr>\n",
       "    <tr>\n",
       "      <th>105</th>\n",
       "      <td>806</td>\n",
       "      <td>568</td>\n",
       "      <td>5</td>\n",
       "    </tr>\n",
       "    <tr>\n",
       "      <th>106</th>\n",
       "      <td>907</td>\n",
       "      <td>703</td>\n",
       "      <td>7</td>\n",
       "    </tr>\n",
       "    <tr>\n",
       "      <th>107</th>\n",
       "      <td>821</td>\n",
       "      <td>135</td>\n",
       "      <td>7</td>\n",
       "    </tr>\n",
       "    <tr>\n",
       "      <th>108</th>\n",
       "      <td>622</td>\n",
       "      <td>561</td>\n",
       "      <td>9</td>\n",
       "    </tr>\n",
       "    <tr>\n",
       "      <th>109</th>\n",
       "      <td>482</td>\n",
       "      <td>689</td>\n",
       "      <td>9</td>\n",
       "    </tr>\n",
       "  </tbody>\n",
       "</table>\n",
       "<p>110 rows × 3 columns</p>\n",
       "</div>"
      ],
      "text/plain": [
       "       X    Y  Demand\n",
       "0    500  500       0\n",
       "1    740  442       8\n",
       "2    261  710      10\n",
       "3    578  522       8\n",
       "4    482  914       5\n",
       "..   ...  ...     ...\n",
       "105  806  568       5\n",
       "106  907  703       7\n",
       "107  821  135       7\n",
       "108  622  561       9\n",
       "109  482  689       9\n",
       "\n",
       "[110 rows x 3 columns]"
      ]
     },
     "execution_count": 4,
     "metadata": {},
     "output_type": "execute_result"
    }
   ],
   "source": [
    "dataframe\n"
   ]
  },
  {
   "cell_type": "code",
   "execution_count": 5,
   "metadata": {},
   "outputs": [],
   "source": [
    "data = dataframe.to_numpy()"
   ]
  },
  {
   "cell_type": "code",
   "execution_count": 6,
   "metadata": {},
   "outputs": [
    {
     "data": {
      "text/plain": [
       "<fcmeans.fcm.FCM at 0x207fc095dd8>"
      ]
     },
     "execution_count": 6,
     "metadata": {},
     "output_type": "execute_result"
    }
   ],
   "source": [
    "my_model = FCM(n_clusters=10) # we use two cluster as an example\n",
    "my_model.fit(data[:,:2]) ## X, numpy array. rows:samples columns:features"
   ]
  },
  {
   "cell_type": "code",
   "execution_count": 7,
   "metadata": {},
   "outputs": [],
   "source": [
    "def supervised_fuzzy_c_mean_clustering(num_cluster:int, data:np.ndarray, capacity:int):\n",
    "    \"\"\"\n",
    "        num_cluster: number of vehicles. Can be increased if demand exceeds capacity\n",
    "        data: data point and demand. Shape: [K, 3] with K is number of data point. Each row is (lat, lon, demand)\n",
    "        capacity : vehicle capacity\n",
    "    \"\"\"\n",
    "    cluster_center, weight_matrix, cluster_labels = None, None, None\n",
    "    flag = True\n",
    "    while flag:\n",
    "        print(f\"---------------Starting clustering with {num_cluster} vehicles---------------\")\n",
    "        ## Clustering\n",
    "        my_model = FCM(n_clusters=num_cluster, max_iter=500) \n",
    "        my_model.fit(data[:,:2]) \n",
    "        cluster_center = my_model.centers\n",
    "        cluster_labels = my_model.predict(data[:,:2])\n",
    "        # cluster_center, weight_matrix, cluster_labels = fuzzy_c_means_clustering(num_cluster, data[:,:2])\n",
    "        ## Check demand in each clusters\n",
    "        is_exceeds = False\n",
    "        for i in range(num_cluster):\n",
    "            demand = np.sum(data[cluster_labels == i][:,2:3])\n",
    "            if demand > capacity:\n",
    "                print(f\"Demand exceed at cluster {i} ({demand} > {capacity}). Increaseing number of vehicle to 1\")\n",
    "                is_exceeds = True\n",
    "                num_cluster = num_cluster + 1\n",
    "                break\n",
    "        if not is_exceeds:\n",
    "            flag = False\n",
    "            print(f\"Finishing clustering with number of vehicles {num_cluster}\")\n",
    "\n",
    "    return cluster_center, weight_matrix, cluster_labels, num_cluster"
   ]
  },
  {
   "cell_type": "code",
   "execution_count": 12,
   "metadata": {},
   "outputs": [],
   "source": [
    "def supervised_k_mean_clustering(num_cluster:int, data:np.ndarray, capacity:int):\n",
    "    \"\"\"\n",
    "        num_cluster: number of vehicles. Can be increased if demand exceeds capacity\n",
    "        data: data point and demand. Shape: [K, 3] with K is number of data point. Each row is (lat, lon, demand)\n",
    "        capacity : vehicle capacity\n",
    "    \"\"\"\n",
    "    cluster_center, weight_matrix, cluster_labels = None, None, None\n",
    "    flag = True\n",
    "    while flag:\n",
    "        print(f\"---------------Starting clustering with {num_cluster} vehicles---------------\")\n",
    "        ## Clustering\n",
    "        kmeans = KMeans(n_clusters=num_cluster, random_state=0, max_iter=1000).fit(data[:,:2]) \n",
    "        cluster_center = kmeans.cluster_centers_\n",
    "        cluster_labels = kmeans.labels_\n",
    "        # cluster_center, weight_matrix, cluster_labels = fuzzy_c_means_clustering(num_cluster, data[:,:2])\n",
    "        ## Check demand in each clusters\n",
    "        is_exceeds = False\n",
    "        for i in range(num_cluster):\n",
    "            demand = np.sum(data[cluster_labels == i][:,2:3])\n",
    "            if demand > capacity:\n",
    "                print(f\"Demand exceed at cluster {i} ({demand} > {capacity}). Increaseing number of vehicle to 1\")\n",
    "                is_exceeds = True\n",
    "                num_cluster = num_cluster + 1\n",
    "                break\n",
    "        if not is_exceeds:\n",
    "            flag = False\n",
    "            print(f\"Finishing clustering with number of vehicles {num_cluster}\")\n",
    "\n",
    "    return cluster_center, weight_matrix, cluster_labels, num_cluster"
   ]
  },
  {
   "cell_type": "code",
   "execution_count": 12,
   "metadata": {},
   "outputs": [
    {
     "name": "stdout",
     "output_type": "stream",
     "text": [
      "---------------Starting clustering with 10 vehicles---------------\n",
      "Demand exceed at cluster 2 (121 > 66). Increaseing number of vehicle to 1\n",
      "---------------Starting clustering with 11 vehicles---------------\n",
      "Demand exceed at cluster 0 (70 > 66). Increaseing number of vehicle to 1\n",
      "---------------Starting clustering with 12 vehicles---------------\n",
      "Demand exceed at cluster 0 (74 > 66). Increaseing number of vehicle to 1\n",
      "---------------Starting clustering with 13 vehicles---------------\n",
      "Demand exceed at cluster 4 (93 > 66). Increaseing number of vehicle to 1\n",
      "---------------Starting clustering with 14 vehicles---------------\n",
      "Demand exceed at cluster 0 (68 > 66). Increaseing number of vehicle to 1\n",
      "---------------Starting clustering with 15 vehicles---------------\n",
      "Demand exceed at cluster 8 (70 > 66). Increaseing number of vehicle to 1\n",
      "---------------Starting clustering with 16 vehicles---------------\n",
      "Demand exceed at cluster 8 (74 > 66). Increaseing number of vehicle to 1\n",
      "---------------Starting clustering with 17 vehicles---------------\n",
      "Demand exceed at cluster 8 (73 > 66). Increaseing number of vehicle to 1\n",
      "---------------Starting clustering with 18 vehicles---------------\n",
      "Demand exceed at cluster 9 (68 > 66). Increaseing number of vehicle to 1\n",
      "---------------Starting clustering with 19 vehicles---------------\n",
      "Demand exceed at cluster 0 (87 > 66). Increaseing number of vehicle to 1\n",
      "---------------Starting clustering with 20 vehicles---------------\n",
      "Demand exceed at cluster 19 (86 > 66). Increaseing number of vehicle to 1\n",
      "---------------Starting clustering with 21 vehicles---------------\n",
      "Finishing clustering with number of vehicles 21\n"
     ]
    }
   ],
   "source": [
    "cluster_center, weight_matrix, cluster_labels, num_cluster = supervised_fuzzy_c_mean_clustering(10, data, 66)"
   ]
  },
  {
   "cell_type": "code",
   "execution_count": 45,
   "metadata": {},
   "outputs": [
    {
     "data": {
      "text/plain": [
       "array([[ 5],\n",
       "       [11],\n",
       "       [46],\n",
       "       [77]], dtype=int64)"
      ]
     },
     "execution_count": 45,
     "metadata": {},
     "output_type": "execute_result"
    }
   ],
   "source": [
    "np.argwhere(cluster_labels == cluster_labels[5])"
   ]
  },
  {
   "cell_type": "code",
   "execution_count": 44,
   "metadata": {},
   "outputs": [
    {
     "data": {
      "text/plain": [
       "13"
      ]
     },
     "execution_count": 44,
     "metadata": {},
     "output_type": "execute_result"
    }
   ],
   "source": [
    "cluster_labels[5]\n"
   ]
  },
  {
   "cell_type": "code",
   "execution_count": 13,
   "metadata": {},
   "outputs": [],
   "source": [
    "def plot_points(cluster_labels:np.ndarray, cluster_center:np.ndarray, data:np.ndarray):\n",
    "    figure(figsize=(14, 12), dpi=80)\n",
    "    cluster_label_unique_len = len(np.unique(cluster_labels))\n",
    "    cluster_color = np.random.rand(cluster_label_unique_len, 3)  \n",
    "\n",
    "    ## Plot point\n",
    "    point_color = cluster_color[cluster_labels]\n",
    "    for i in range(data.shape[0]):\n",
    "        point = data[i]\n",
    "        plt.scatter(point[0], point[1], marker=\"o\", c=[point_color[i]])\n",
    "\n",
    "     ## plot cluster center\n",
    "    plt.scatter(cluster_center[:,0], cluster_center[:,1], marker=\"x\", c=[[0,0,0]])\n",
    "\n",
    "    plt.show()"
   ]
  },
  {
   "cell_type": "code",
   "execution_count": 14,
   "metadata": {},
   "outputs": [
    {
     "data": {
      "image/png": "[encoded data removed]",
      "text/plain": [
       "<Figure size 1120x960 with 1 Axes>"
      ]
     },
     "metadata": {
      "needs_background": "light"
     },
     "output_type": "display_data"
    }
   ],
   "source": [
    "plot_points(cluster_labels, cluster_center, data[:,:2])\n"
   ]
  },
  {
   "cell_type": "code",
   "execution_count": null,
   "metadata": {},
   "outputs": [],
   "source": []
  }
 ],
 "metadata": {
  "interpreter": {
   "hash": "f1d2db5728455cace62d71bb797d872179f0b03bf9c6d31e6d91ff5e9bbdaa30"
  },
  "kernelspec": {
   "display_name": "Python 3.6.13 ('monigate')",
   "language": "python",
   "name": "python3"
  },
  "language_info": {
   "codemirror_mode": {
    "name": "ipython",
    "version": 3
   },
   "file_extension": ".py",
   "mimetype": "text/x-python",
   "name": "python",
   "nbconvert_exporter": "python",
   "pygments_lexer": "ipython3",
   "version": "3.6.13"
  },
  "orig_nbformat": 4
 },
 "nbformat": 4,
 "nbformat_minor": 2
}
