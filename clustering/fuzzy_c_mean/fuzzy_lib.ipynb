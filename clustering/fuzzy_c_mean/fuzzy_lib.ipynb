{
 "cells": [
  {
   "cell_type": "code",
   "execution_count": null,
   "metadata": {},
   "outputs": [],
   "source": [
    "import pandas as pd\n",
    "import numpy as np\n",
    "import matplotlib.pyplot as plt\n",
    "import random\n",
    "import skfuzzy\n",
    "from matplotlib.pyplot import figure\n",
    "from fuzzy import run_fuzzy_c_means, plot_points"
   ]
  },
  {
   "cell_type": "code",
   "execution_count": null,
   "metadata": {},
   "outputs": [],
   "source": [
    "from sklearn.cluster import KMeans\n",
    "from fcmeans import FCM"
   ]
  },
  {
   "cell_type": "code",
   "execution_count": null,
   "metadata": {},
   "outputs": [],
   "source": [
    "dataframe = pd.read_csv(\"D:\\\\Logistic_code\\\\code\\\\vrp\\\\clustering\\\\fuzzy_c_mean\\\\data2.csv\")"
   ]
  },
  {
   "cell_type": "markdown",
   "metadata": {},
   "source": [
    "## Fuzzy Impl"
   ]
  },
  {
   "cell_type": "code",
   "execution_count": null,
   "metadata": {},
   "outputs": [],
   "source": [
    "def supervised_fuzzy_c_mean_clustering(num_cluster:int, data:np.ndarray, capacity:int):\n",
    "    \"\"\"\n",
    "        num_cluster: number of vehicles. Can be increased if demand exceeds capacity\n",
    "        data: data point and demand. Shape: [K, 3] with K is number of data point. Each row is (lat, lon, demand)\n",
    "        capacity : vehicle capacity\n",
    "    \"\"\"\n",
    "    cluster_center, weight_matrix, cluster_labels = None, None, None\n",
    "    flag = True\n",
    "    while flag:\n",
    "        print(f\"---------------Starting clustering with {num_cluster} vehicles---------------\")\n",
    "        ## Clustering\n",
    "        my_model = FCM(n_clusters=num_cluster, max_iter=500) \n",
    "        my_model.fit(data[:,:2]) \n",
    "        cluster_center = my_model.centers\n",
    "        cluster_labels = my_model.predict(data[:,:2])\n",
    "        # cluster_center, weight_matrix, cluster_labels = fuzzy_c_means_clustering(num_cluster, data[:,:2])\n",
    "        ## Check demand in each clusters\n",
    "        is_exceeds = False\n",
    "        for i in range(num_cluster):\n",
    "            demand = np.sum(data[cluster_labels == i][:,2:3])\n",
    "            if demand > capacity:\n",
    "                print(f\"Demand exceed at cluster {i} ({demand} > {capacity}). Increaseing number of vehicle to 1\")\n",
    "                is_exceeds = True\n",
    "                num_cluster = num_cluster + 1\n",
    "                break\n",
    "        if not is_exceeds:\n",
    "            flag = False\n",
    "            print(f\"Finishing clustering with number of vehicles {num_cluster}\")\n",
    "\n",
    "    return cluster_center, weight_matrix, cluster_labels, num_cluster"
   ]
  },
  {
   "cell_type": "code",
   "execution_count": null,
   "metadata": {},
   "outputs": [],
   "source": [
    "def supervised_k_mean_clustering(num_cluster:int, data:np.ndarray, capacity:int):\n",
    "    \"\"\"\n",
    "        num_cluster: number of vehicles. Can be increased if demand exceeds capacity\n",
    "        data: data point and demand. Shape: [K, 3] with K is number of data point. Each row is (lat, lon, demand)\n",
    "        capacity : vehicle capacity\n",
    "    \"\"\"\n",
    "    cluster_center, weight_matrix, cluster_labels = None, None, None\n",
    "    flag = True\n",
    "    while flag:\n",
    "        print(f\"---------------Starting clustering with {num_cluster} vehicles---------------\")\n",
    "        ## Clustering\n",
    "        kmeans = KMeans(n_clusters=num_cluster, random_state=0, max_iter=1000).fit(data[:,:2]) \n",
    "        cluster_center = kmeans.cluster_centers_\n",
    "        cluster_labels = kmeans.labels_\n",
    "        # cluster_center, weight_matrix, cluster_labels = fuzzy_c_means_clustering(num_cluster, data[:,:2])\n",
    "        ## Check demand in each clusters\n",
    "        is_exceeds = False\n",
    "        for i in range(num_cluster):\n",
    "            demand = np.sum(data[cluster_labels == i][:,2:3])\n",
    "            if demand > capacity:\n",
    "                print(f\"Demand exceed at cluster {i} ({demand} > {capacity}). Increaseing number of vehicle to 1\")\n",
    "                is_exceeds = True\n",
    "                num_cluster = num_cluster + 1\n",
    "                break\n",
    "        if not is_exceeds:\n",
    "            flag = False\n",
    "            print(f\"Finishing clustering with number of vehicles {num_cluster}\")\n",
    "\n",
    "    return cluster_center, weight_matrix, cluster_labels, num_cluster"
   ]
  },
  {
   "cell_type": "code",
   "execution_count": null,
   "metadata": {},
   "outputs": [],
   "source": [
    "cluster_center, weight_matrix, cluster_labels, num_cluster = supervised_fuzzy_c_mean_clustering(10, data, 66)"
   ]
  },
  {
   "cell_type": "code",
   "execution_count": null,
   "metadata": {},
   "outputs": [],
   "source": [
    "data"
   ]
  },
  {
   "cell_type": "code",
   "execution_count": null,
   "metadata": {},
   "outputs": [],
   "source": [
    "cluster_2 = cluster_center[cluster_labels]"
   ]
  },
  {
   "cell_type": "code",
   "execution_count": null,
   "metadata": {},
   "outputs": [],
   "source": [
    "a = np.array(\n",
    "    [\n",
    "        [3, 5],\n",
    "        [6, 9],\n",
    "        [10, 12],\n",
    "        [15, 14]\n",
    "    ]\n",
    ")\n",
    "b = np.array(\n",
    "    [\n",
    "        [1, 5],\n",
    "        [2, 9],\n",
    "        [18, 15],\n",
    "        [13, 16]\n",
    "    ]\n",
    ")"
   ]
  },
  {
   "cell_type": "code",
   "execution_count": null,
   "metadata": {},
   "outputs": [],
   "source": [
    "np.sqrt(np.sum((a - b) ** 2, axis= 1))"
   ]
  },
  {
   "cell_type": "code",
   "execution_count": null,
   "metadata": {},
   "outputs": [],
   "source": [
    "cluster_labels"
   ]
  },
  {
   "cell_type": "code",
   "execution_count": null,
   "metadata": {},
   "outputs": [],
   "source": [
    "cluster_center"
   ]
  },
  {
   "cell_type": "code",
   "execution_count": null,
   "metadata": {},
   "outputs": [],
   "source": [
    "np.argwhere(cluster_labels == cluster_labels[5])"
   ]
  },
  {
   "cell_type": "code",
   "execution_count": null,
   "metadata": {},
   "outputs": [],
   "source": [
    "cluster_labels[5]\n"
   ]
  },
  {
   "cell_type": "code",
   "execution_count": null,
   "metadata": {},
   "outputs": [],
   "source": [
    "def plot_points(cluster_labels:np.ndarray, cluster_center:np.ndarray, data:np.ndarray):\n",
    "    figure(figsize=(14, 12), dpi=80)\n",
    "    cluster_label_unique_len = len(np.unique(cluster_labels))\n",
    "    cluster_color = np.random.rand(cluster_label_unique_len, 3)  \n",
    "\n",
    "    ## Plot point\n",
    "    point_color = cluster_color[cluster_labels]\n",
    "    for i in range(data.shape[0]):\n",
    "        point = data[i]\n",
    "        plt.scatter(point[0], point[1], marker=\"o\", c=[point_color[i]])\n",
    "\n",
    "     ## plot cluster center\n",
    "    plt.scatter(cluster_center[:,0], cluster_center[:,1], marker=\"x\", c=[[0,0,0]])\n",
    "\n",
    "    plt.show()"
   ]
  },
  {
   "cell_type": "code",
   "execution_count": null,
   "metadata": {},
   "outputs": [],
   "source": [
    "plot_points(cluster_labels, cluster_center, data[:,:2])\n"
   ]
  },
  {
   "cell_type": "code",
   "execution_count": null,
   "metadata": {},
   "outputs": [],
   "source": []
  },
  {
   "cell_type": "markdown",
   "metadata": {},
   "source": [
    "## Library testing"
   ]
  },
  {
   "cell_type": "code",
   "execution_count": 38,
   "metadata": {},
   "outputs": [
    {
     "name": "stdout",
     "output_type": "stream",
     "text": [
      "---------------Starting clustering with 120 vehicles---------------\n"
     ]
    },
    {
     "ename": "ValueError",
     "evalue": "array must not contain infs or NaNs",
     "output_type": "error",
     "traceback": [
      "\u001b[1;31m---------------------------------------------------------------------------\u001b[0m",
      "\u001b[1;31mValueError\u001b[0m                                Traceback (most recent call last)",
      "\u001b[1;32m<ipython-input-38-288d0ec938a7>\u001b[0m in \u001b[0;36m<module>\u001b[1;34m\u001b[0m\n\u001b[0;32m      3\u001b[0m         \u001b[0mdata\u001b[0m\u001b[1;33m,\u001b[0m\u001b[1;33m\u001b[0m\u001b[1;33m\u001b[0m\u001b[0m\n\u001b[0;32m      4\u001b[0m         \u001b[1;36m66\u001b[0m\u001b[1;33m,\u001b[0m\u001b[1;33m\u001b[0m\u001b[1;33m\u001b[0m\u001b[0m\n\u001b[1;32m----> 5\u001b[1;33m         \u001b[1;32mFalse\u001b[0m\u001b[1;33m\u001b[0m\u001b[1;33m\u001b[0m\u001b[0m\n\u001b[0m\u001b[0;32m      6\u001b[0m     )\n",
      "\u001b[1;32md:\\Logistic_code\\code\\vrp\\clustering\\fuzzy_c_mean\\fuzzy.py\u001b[0m in \u001b[0;36mrun_fuzzy_c_means\u001b[1;34m(num_cluster, data, capacity, increase_vehicle)\u001b[0m\n\u001b[0;32m     18\u001b[0m         \u001b[1;31m## Clustering\u001b[0m\u001b[1;33m\u001b[0m\u001b[1;33m\u001b[0m\u001b[1;33m\u001b[0m\u001b[0m\n\u001b[0;32m     19\u001b[0m         \u001b[0mmy_model\u001b[0m \u001b[1;33m=\u001b[0m \u001b[0mFCM\u001b[0m\u001b[1;33m(\u001b[0m\u001b[0mn_clusters\u001b[0m\u001b[1;33m=\u001b[0m\u001b[0mnum_cluster\u001b[0m\u001b[1;33m,\u001b[0m \u001b[0mmax_iter\u001b[0m\u001b[1;33m=\u001b[0m\u001b[1;36m500\u001b[0m\u001b[1;33m)\u001b[0m\u001b[1;33m\u001b[0m\u001b[1;33m\u001b[0m\u001b[0m\n\u001b[1;32m---> 20\u001b[1;33m         \u001b[0mmy_model\u001b[0m\u001b[1;33m.\u001b[0m\u001b[0mfit\u001b[0m\u001b[1;33m(\u001b[0m\u001b[0mdata\u001b[0m\u001b[1;33m[\u001b[0m\u001b[1;33m:\u001b[0m\u001b[1;33m,\u001b[0m\u001b[1;33m:\u001b[0m\u001b[1;36m2\u001b[0m\u001b[1;33m]\u001b[0m\u001b[1;33m)\u001b[0m\u001b[1;33m\u001b[0m\u001b[1;33m\u001b[0m\u001b[0m\n\u001b[0m\u001b[0;32m     21\u001b[0m         \u001b[0mcluster_center\u001b[0m \u001b[1;33m=\u001b[0m \u001b[0mmy_model\u001b[0m\u001b[1;33m.\u001b[0m\u001b[0mcenters\u001b[0m\u001b[1;33m\u001b[0m\u001b[1;33m\u001b[0m\u001b[0m\n\u001b[0;32m     22\u001b[0m         \u001b[0mcluster_labels\u001b[0m \u001b[1;33m=\u001b[0m \u001b[0mmy_model\u001b[0m\u001b[1;33m.\u001b[0m\u001b[0mpredict\u001b[0m\u001b[1;33m(\u001b[0m\u001b[0mdata\u001b[0m\u001b[1;33m[\u001b[0m\u001b[1;33m:\u001b[0m\u001b[1;33m,\u001b[0m\u001b[1;33m:\u001b[0m\u001b[1;36m2\u001b[0m\u001b[1;33m]\u001b[0m\u001b[1;33m)\u001b[0m\u001b[1;33m\u001b[0m\u001b[1;33m\u001b[0m\u001b[0m\n",
      "\u001b[1;32mc:\\Anaconda\\envs\\monigate\\lib\\site-packages\\fcmeans\\fcm.py\u001b[0m in \u001b[0;36mfit\u001b[1;34m(self, X)\u001b[0m\n\u001b[0;32m     31\u001b[0m \u001b[1;33m\u001b[0m\u001b[0m\n\u001b[0;32m     32\u001b[0m             \u001b[1;31m# Stopping rule\u001b[0m\u001b[1;33m\u001b[0m\u001b[1;33m\u001b[0m\u001b[1;33m\u001b[0m\u001b[0m\n\u001b[1;32m---> 33\u001b[1;33m             \u001b[1;32mif\u001b[0m \u001b[0mnorm\u001b[0m\u001b[1;33m(\u001b[0m\u001b[0mu\u001b[0m \u001b[1;33m-\u001b[0m \u001b[0mu2\u001b[0m\u001b[1;33m)\u001b[0m \u001b[1;33m<\u001b[0m \u001b[0mself\u001b[0m\u001b[1;33m.\u001b[0m\u001b[0merror\u001b[0m\u001b[1;33m:\u001b[0m\u001b[1;33m\u001b[0m\u001b[1;33m\u001b[0m\u001b[0m\n\u001b[0m\u001b[0;32m     34\u001b[0m                 \u001b[1;32mbreak\u001b[0m\u001b[1;33m\u001b[0m\u001b[1;33m\u001b[0m\u001b[0m\n\u001b[0;32m     35\u001b[0m \u001b[1;33m\u001b[0m\u001b[0m\n",
      "\u001b[1;32mc:\\Anaconda\\envs\\monigate\\lib\\site-packages\\scipy\\linalg\\misc.py\u001b[0m in \u001b[0;36mnorm\u001b[1;34m(a, ord, axis, keepdims, check_finite)\u001b[0m\n\u001b[0;32m    138\u001b[0m     \u001b[1;31m# Differs from numpy only in non-finite handling and the use of blas.\u001b[0m\u001b[1;33m\u001b[0m\u001b[1;33m\u001b[0m\u001b[1;33m\u001b[0m\u001b[0m\n\u001b[0;32m    139\u001b[0m     \u001b[1;32mif\u001b[0m \u001b[0mcheck_finite\u001b[0m\u001b[1;33m:\u001b[0m\u001b[1;33m\u001b[0m\u001b[1;33m\u001b[0m\u001b[0m\n\u001b[1;32m--> 140\u001b[1;33m         \u001b[0ma\u001b[0m \u001b[1;33m=\u001b[0m \u001b[0mnp\u001b[0m\u001b[1;33m.\u001b[0m\u001b[0masarray_chkfinite\u001b[0m\u001b[1;33m(\u001b[0m\u001b[0ma\u001b[0m\u001b[1;33m)\u001b[0m\u001b[1;33m\u001b[0m\u001b[1;33m\u001b[0m\u001b[0m\n\u001b[0m\u001b[0;32m    141\u001b[0m     \u001b[1;32melse\u001b[0m\u001b[1;33m:\u001b[0m\u001b[1;33m\u001b[0m\u001b[1;33m\u001b[0m\u001b[0m\n\u001b[0;32m    142\u001b[0m         \u001b[0ma\u001b[0m \u001b[1;33m=\u001b[0m \u001b[0mnp\u001b[0m\u001b[1;33m.\u001b[0m\u001b[0masarray\u001b[0m\u001b[1;33m(\u001b[0m\u001b[0ma\u001b[0m\u001b[1;33m)\u001b[0m\u001b[1;33m\u001b[0m\u001b[1;33m\u001b[0m\u001b[0m\n",
      "\u001b[1;32mc:\\Anaconda\\envs\\monigate\\lib\\site-packages\\numpy\\lib\\function_base.py\u001b[0m in \u001b[0;36masarray_chkfinite\u001b[1;34m(a, dtype, order)\u001b[0m\n\u001b[0;32m    484\u001b[0m     \u001b[1;32mif\u001b[0m \u001b[0ma\u001b[0m\u001b[1;33m.\u001b[0m\u001b[0mdtype\u001b[0m\u001b[1;33m.\u001b[0m\u001b[0mchar\u001b[0m \u001b[1;32min\u001b[0m \u001b[0mtypecodes\u001b[0m\u001b[1;33m[\u001b[0m\u001b[1;34m'AllFloat'\u001b[0m\u001b[1;33m]\u001b[0m \u001b[1;32mand\u001b[0m \u001b[1;32mnot\u001b[0m \u001b[0mnp\u001b[0m\u001b[1;33m.\u001b[0m\u001b[0misfinite\u001b[0m\u001b[1;33m(\u001b[0m\u001b[0ma\u001b[0m\u001b[1;33m)\u001b[0m\u001b[1;33m.\u001b[0m\u001b[0mall\u001b[0m\u001b[1;33m(\u001b[0m\u001b[1;33m)\u001b[0m\u001b[1;33m:\u001b[0m\u001b[1;33m\u001b[0m\u001b[1;33m\u001b[0m\u001b[0m\n\u001b[0;32m    485\u001b[0m         raise ValueError(\n\u001b[1;32m--> 486\u001b[1;33m             \"array must not contain infs or NaNs\")\n\u001b[0m\u001b[0;32m    487\u001b[0m     \u001b[1;32mreturn\u001b[0m \u001b[0ma\u001b[0m\u001b[1;33m\u001b[0m\u001b[1;33m\u001b[0m\u001b[0m\n\u001b[0;32m    488\u001b[0m \u001b[1;33m\u001b[0m\u001b[0m\n",
      "\u001b[1;31mValueError\u001b[0m: array must not contain infs or NaNs"
     ]
    }
   ],
   "source": [
    "fuzzy_cluster_center, fuzzy_distance_data = run_fuzzy_c_means(\n",
    "        120, \n",
    "        data, \n",
    "        66,\n",
    "        False\n",
    "    )"
   ]
  },
  {
   "cell_type": "code",
   "execution_count": null,
   "metadata": {},
   "outputs": [],
   "source": [
    "cluster_center"
   ]
  },
  {
   "cell_type": "code",
   "execution_count": null,
   "metadata": {},
   "outputs": [],
   "source": [
    "cluster_labels"
   ]
  },
  {
   "cell_type": "code",
   "execution_count": null,
   "metadata": {},
   "outputs": [],
   "source": [
    "distance_data"
   ]
  },
  {
   "cell_type": "code",
   "execution_count": null,
   "metadata": {},
   "outputs": [],
   "source": []
  }
 ],
 "metadata": {
  "interpreter": {
   "hash": "f1d2db5728455cace62d71bb797d872179f0b03bf9c6d31e6d91ff5e9bbdaa30"
  },
  "kernelspec": {
   "display_name": "Python 3.6.13 ('monigate')",
   "language": "python",
   "name": "python3"
  },
  "language_info": {
   "codemirror_mode": {
    "name": "ipython",
    "version": 3
   },
   "file_extension": ".py",
   "mimetype": "text/x-python",
   "name": "python",
   "nbconvert_exporter": "python",
   "pygments_lexer": "ipython3",
   "version": "3.6.13"
  },
  "orig_nbformat": 4
 },
 "nbformat": 4,
 "nbformat_minor": 2
}
