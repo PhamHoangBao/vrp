{
 "cells": [
  {
   "cell_type": "code",
   "execution_count": 2,
   "metadata": {},
   "outputs": [],
   "source": [
    "import pandas as pd\n",
    "import numpy as np\n",
    "import matplotlib.pyplot as plt\n",
    "import random\n",
    "from matplotlib.pyplot import figure"
   ]
  },
  {
   "cell_type": "code",
   "execution_count": 3,
   "metadata": {},
   "outputs": [],
   "source": [
    "dataframe = pd.read_csv(\"D:\\\\Logistic_code\\\\code\\\\vrp\\\\clustering\\\\fuzzy_c_mean\\\\data2.csv\")"
   ]
  },
  {
   "cell_type": "code",
   "execution_count": 4,
   "metadata": {},
   "outputs": [
    {
     "data": {
      "text/html": [
       "<div>\n",
       "<style scoped>\n",
       "    .dataframe tbody tr th:only-of-type {\n",
       "        vertical-align: middle;\n",
       "    }\n",
       "\n",
       "    .dataframe tbody tr th {\n",
       "        vertical-align: top;\n",
       "    }\n",
       "\n",
       "    .dataframe thead th {\n",
       "        text-align: right;\n",
       "    }\n",
       "</style>\n",
       "<table border=\"1\" class=\"dataframe\">\n",
       "  <thead>\n",
       "    <tr style=\"text-align: right;\">\n",
       "      <th></th>\n",
       "      <th>X</th>\n",
       "      <th>Y</th>\n",
       "      <th>Demand</th>\n",
       "    </tr>\n",
       "  </thead>\n",
       "  <tbody>\n",
       "    <tr>\n",
       "      <th>0</th>\n",
       "      <td>500</td>\n",
       "      <td>500</td>\n",
       "      <td>0</td>\n",
       "    </tr>\n",
       "    <tr>\n",
       "      <th>1</th>\n",
       "      <td>740</td>\n",
       "      <td>442</td>\n",
       "      <td>8</td>\n",
       "    </tr>\n",
       "    <tr>\n",
       "      <th>2</th>\n",
       "      <td>261</td>\n",
       "      <td>710</td>\n",
       "      <td>10</td>\n",
       "    </tr>\n",
       "    <tr>\n",
       "      <th>3</th>\n",
       "      <td>578</td>\n",
       "      <td>522</td>\n",
       "      <td>8</td>\n",
       "    </tr>\n",
       "    <tr>\n",
       "      <th>4</th>\n",
       "      <td>482</td>\n",
       "      <td>914</td>\n",
       "      <td>5</td>\n",
       "    </tr>\n",
       "    <tr>\n",
       "      <th>...</th>\n",
       "      <td>...</td>\n",
       "      <td>...</td>\n",
       "      <td>...</td>\n",
       "    </tr>\n",
       "    <tr>\n",
       "      <th>105</th>\n",
       "      <td>806</td>\n",
       "      <td>568</td>\n",
       "      <td>5</td>\n",
       "    </tr>\n",
       "    <tr>\n",
       "      <th>106</th>\n",
       "      <td>907</td>\n",
       "      <td>703</td>\n",
       "      <td>7</td>\n",
       "    </tr>\n",
       "    <tr>\n",
       "      <th>107</th>\n",
       "      <td>821</td>\n",
       "      <td>135</td>\n",
       "      <td>7</td>\n",
       "    </tr>\n",
       "    <tr>\n",
       "      <th>108</th>\n",
       "      <td>622</td>\n",
       "      <td>561</td>\n",
       "      <td>9</td>\n",
       "    </tr>\n",
       "    <tr>\n",
       "      <th>109</th>\n",
       "      <td>482</td>\n",
       "      <td>689</td>\n",
       "      <td>9</td>\n",
       "    </tr>\n",
       "  </tbody>\n",
       "</table>\n",
       "<p>110 rows × 3 columns</p>\n",
       "</div>"
      ],
      "text/plain": [
       "       X    Y  Demand\n",
       "0    500  500       0\n",
       "1    740  442       8\n",
       "2    261  710      10\n",
       "3    578  522       8\n",
       "4    482  914       5\n",
       "..   ...  ...     ...\n",
       "105  806  568       5\n",
       "106  907  703       7\n",
       "107  821  135       7\n",
       "108  622  561       9\n",
       "109  482  689       9\n",
       "\n",
       "[110 rows x 3 columns]"
      ]
     },
     "execution_count": 4,
     "metadata": {},
     "output_type": "execute_result"
    }
   ],
   "source": [
    "dataframe"
   ]
  },
  {
   "cell_type": "code",
   "execution_count": 5,
   "metadata": {},
   "outputs": [],
   "source": [
    "data = dataframe.to_numpy()"
   ]
  },
  {
   "cell_type": "code",
   "execution_count": 6,
   "metadata": {},
   "outputs": [
    {
     "data": {
      "text/plain": [
       "(110, 3)"
      ]
     },
     "execution_count": 6,
     "metadata": {},
     "output_type": "execute_result"
    }
   ],
   "source": [
    "data.shape"
   ]
  },
  {
   "cell_type": "markdown",
   "metadata": {},
   "source": [
    "### Initialize parameters"
   ]
  },
  {
   "cell_type": "code",
   "execution_count": 7,
   "metadata": {},
   "outputs": [],
   "source": [
    "# Initialize number of clusters\n",
    "num_cluster = 10\n",
    "# Vehicla capacity\n",
    "vehicle_capa = 600\n",
    "# Fuzzy parameter\n",
    "m = 2.0\n",
    "# Maximum number of iteration\n",
    "MAX_ITER = 100\n",
    "# length of element\n",
    "num_element = data.shape[0]"
   ]
  },
  {
   "cell_type": "markdown",
   "metadata": {},
   "source": [
    "### Intialtize weight matrix with random values"
   ]
  },
  {
   "cell_type": "code",
   "execution_count": 8,
   "metadata": {},
   "outputs": [],
   "source": [
    "def initialize_weight_matrix(num_cluster, num_element):\n",
    "    weight_matrix = list()\n",
    "    for i in range(num_element):\n",
    "        random_list = [random.random() for i in range(num_cluster)]\n",
    "        random_list_sum = sum(random_list)\n",
    "        random_list = [x / random_list_sum for x in random_list]\n",
    "        weight_matrix.append(random_list)\n",
    "    return np.array(weight_matrix)"
   ]
  },
  {
   "cell_type": "code",
   "execution_count": 88,
   "metadata": {},
   "outputs": [],
   "source": [
    "weight_matrix = initialize_weight_matrix(num_cluster,num_element)"
   ]
  },
  {
   "cell_type": "code",
   "execution_count": 147,
   "metadata": {},
   "outputs": [
    {
     "data": {
      "text/plain": [
       "(106, 10)"
      ]
     },
     "execution_count": 147,
     "metadata": {},
     "output_type": "execute_result"
    }
   ],
   "source": [
    "weight_matrix.shape"
   ]
  },
  {
   "cell_type": "markdown",
   "metadata": {},
   "source": [
    "### Calculating cluster center"
   ]
  },
  {
   "cell_type": "code",
   "execution_count": 165,
   "metadata": {},
   "outputs": [],
   "source": [
    "a = np.array([[1,2], [2,3], [9,4], [10,1]])\n",
    "# b = initialize_weight_matrix(2,4)\n",
    "b = np.array([[0.4, 0.6] , [0.88, 0.12], [0.41, 0.59], [0.27, 0.73]])\n"
   ]
  },
  {
   "cell_type": "code",
   "execution_count": 166,
   "metadata": {},
   "outputs": [
    {
     "data": {
      "text/plain": [
       "array([[3.36115365, 2.88284839],\n",
       "       [7.05010355, 2.14154851]])"
      ]
     },
     "execution_count": 166,
     "metadata": {},
     "output_type": "execute_result"
    }
   ],
   "source": [
    "np.dot(np.transpose(b * b), a) / np.expand_dims(np.sum(b * b, axis=0), axis=0).T\n"
   ]
  },
  {
   "cell_type": "code",
   "execution_count": 9,
   "metadata": {},
   "outputs": [],
   "source": [
    "def calculate_cluster_center(weight_matrix:np.ndarray, data:np.ndarray):\n",
    "    return np.dot(np.transpose(weight_matrix * weight_matrix), data) / np.expand_dims(np.sum(weight_matrix * weight_matrix, axis=0), axis=0).T"
   ]
  },
  {
   "cell_type": "code",
   "execution_count": 168,
   "metadata": {},
   "outputs": [],
   "source": [
    "cluster_center = calculate_cluster_center(b, a)"
   ]
  },
  {
   "cell_type": "code",
   "execution_count": 169,
   "metadata": {},
   "outputs": [
    {
     "data": {
      "text/plain": [
       "array([[3.36115365, 2.88284839],\n",
       "       [7.05010355, 2.14154851]])"
      ]
     },
     "execution_count": 169,
     "metadata": {},
     "output_type": "execute_result"
    }
   ],
   "source": [
    "cluster_center"
   ]
  },
  {
   "cell_type": "code",
   "execution_count": 170,
   "metadata": {},
   "outputs": [
    {
     "data": {
      "text/plain": [
       "array([[ 1,  2],\n",
       "       [ 2,  3],\n",
       "       [ 9,  4],\n",
       "       [10,  1]])"
      ]
     },
     "execution_count": 170,
     "metadata": {},
     "output_type": "execute_result"
    }
   ],
   "source": [
    "a"
   ]
  },
  {
   "cell_type": "code",
   "execution_count": 171,
   "metadata": {},
   "outputs": [
    {
     "data": {
      "text/plain": [
       "array([[0.4 , 0.6 ],\n",
       "       [0.88, 0.12],\n",
       "       [0.41, 0.59],\n",
       "       [0.27, 0.73]])"
      ]
     },
     "execution_count": 171,
     "metadata": {},
     "output_type": "execute_result"
    }
   ],
   "source": [
    "b"
   ]
  },
  {
   "cell_type": "markdown",
   "metadata": {},
   "source": [
    "### Updating weight matrix"
   ]
  },
  {
   "cell_type": "code",
   "execution_count": 10,
   "metadata": {},
   "outputs": [],
   "source": [
    "def calculate_euclidean_distance(a:np.ndarray, b:np.ndarray):\n",
    "    return np.linalg.norm(a - b)"
   ]
  },
  {
   "cell_type": "code",
   "execution_count": 11,
   "metadata": {},
   "outputs": [],
   "source": [
    "def update_weight_matrix(cluster_center:np.ndarray, data:np.ndarray):\n",
    "    temp = np.expand_dims(data, axis=0) - np.expand_dims(cluster_center, axis=1)\n",
    "    distance = np.sqrt(np.sum(temp ** 2, axis = 2)).T\n",
    "    return (1 / distance) / np.expand_dims(np.sum((1 / distance), axis = 1),-1)"
   ]
  },
  {
   "cell_type": "markdown",
   "metadata": {},
   "source": [
    "### Fuzzy c-means clusterring"
   ]
  },
  {
   "cell_type": "code",
   "execution_count": 12,
   "metadata": {},
   "outputs": [],
   "source": [
    "def fuzzy_c_means_clustering(num_cluster:int, data:np.ndarray):\n",
    "    num_element = data.shape[0]\n",
    "    weight_matrix = initialize_weight_matrix(num_cluster, num_element)\n",
    "    curr = 0\n",
    "    cluster_labels = None\n",
    "    while curr <= MAX_ITER:\n",
    "        cluster_center = calculate_cluster_center(weight_matrix, data)\n",
    "        weight_matrix = update_weight_matrix(cluster_center, data)\n",
    "        cluster_labels = weight_matrix.argmax(axis = 1)\n",
    "        curr = curr + 1\n",
    "    return cluster_center, weight_matrix, cluster_labels"
   ]
  },
  {
   "cell_type": "code",
   "execution_count": 13,
   "metadata": {},
   "outputs": [],
   "source": [
    "# data = np.array([[1,2], [2,3], [9,4], [10,1]])\n",
    "num_cluster = 10\n",
    "MAX_ITER = 1000\n",
    "cluster_center, weight_matrix, cluster_labels = fuzzy_c_means_clustering(num_cluster, data[:,:2])"
   ]
  },
  {
   "cell_type": "markdown",
   "metadata": {},
   "source": [
    "### Supervised Fuzzty C-means"
   ]
  },
  {
   "cell_type": "code",
   "execution_count": 18,
   "metadata": {},
   "outputs": [
    {
     "name": "stdout",
     "output_type": "stream",
     "text": [
      "---------------Starting clustering with 10 vehicles---------------\n",
      "Finishing clustering with number of vehicles 10\n"
     ]
    }
   ],
   "source": [
    "def supervised_fuzzy_c_mean_clustering(num_cluster:int, data:np.ndarray, capacity:int):\n",
    "    \"\"\"\n",
    "        num_cluster: number of vehicles. Can be increased if demand exceeds capacity\n",
    "        data: data point and demand. Shape: [K, 3] with K is number of data point. Each row is (lat, lon, demand)\n",
    "        capacity : vehicle capacity\n",
    "    \"\"\"\n",
    "    cluster_center, weight_matrix, cluster_labels = None, None, None\n",
    "    flag = True\n",
    "    while flag:\n",
    "        print(f\"---------------Starting clustering with {num_cluster} vehicles---------------\")\n",
    "        ## Clustering\n",
    "        cluster_center, weight_matrix, cluster_labels = fuzzy_c_means_clustering(num_cluster, data[:,:2])\n",
    "        ## Check demand in each clusters\n",
    "        is_exceeds = False\n",
    "        for i in range(num_cluster):\n",
    "            demand = np.sum(data[cluster_labels == i][:,2:3])\n",
    "            if demand > capacity:\n",
    "                print(f\"Demand exceed at cluster {i} ({demand} > {capacity}). Increaseing number of vehicle to 1\")\n",
    "                is_exceeds = True\n",
    "                num_cluster = num_cluster + 1\n",
    "                break\n",
    "        if not is_exceeds:\n",
    "            flag = False\n",
    "            print(f\"Finishing clustering with number of vehicles {num_cluster}\")\n",
    "\n",
    "    return cluster_center, weight_matrix, cluster_labels, num_cluster\n",
    "num_cluster = 10\n",
    "MAX_ITER = 1000\n",
    "capacity = 6600\n",
    "cluster_center, weight_matrix, cluster_labels, num_cluster = supervised_fuzzy_c_mean_clustering(num_cluster, data, capacity)"
   ]
  },
  {
   "cell_type": "code",
   "execution_count": 68,
   "metadata": {},
   "outputs": [
    {
     "data": {
      "text/plain": [
       "52"
      ]
     },
     "execution_count": 68,
     "metadata": {},
     "output_type": "execute_result"
    }
   ],
   "source": [
    "num_cluster\n"
   ]
  },
  {
   "cell_type": "code",
   "execution_count": 69,
   "metadata": {},
   "outputs": [
    {
     "data": {
      "text/plain": [
       "array([ 6, 14,  4,  5,  2, 38, 45, 39, 44,  2, 31, 20, 47, 17, 26, 20, 46,\n",
       "       22, 33, 27, 29, 47, 11, 24,  2, 12, 20, 22, 22, 46, 25, 22, 48,  2,\n",
       "       29, 16, 11, 39, 42, 21, 32, 34, 29, 11, 24, 29,  7, 31, 16, 15, 43,\n",
       "       20, 37, 20, 34, 30, 30, 39, 47, 22, 11, 11, 50, 47, 11, 23, 20, 29,\n",
       "       34, 35, 24, 41, 47, 16, 48, 34, 30, 28, 46, 51,  3, 17, 39, 11, 10,\n",
       "       20, 31, 10, 34,  9, 46, 19, 29, 11, 39, 22, 21, 29, 20, 23, 50,  2,\n",
       "       36, 36, 11, 13, 29, 39, 49, 18], dtype=int64)"
      ]
     },
     "execution_count": 69,
     "metadata": {},
     "output_type": "execute_result"
    }
   ],
   "source": [
    "cluster_labels"
   ]
  },
  {
   "cell_type": "markdown",
   "metadata": {},
   "source": [
    "### Ploting"
   ]
  },
  {
   "cell_type": "code",
   "execution_count": 19,
   "metadata": {},
   "outputs": [],
   "source": [
    "\n",
    "def plot_points(cluster_labels:np.ndarray, cluster_center:np.ndarray, data:np.ndarray):\n",
    "    figure(figsize=(14, 12), dpi=80)\n",
    "    cluster_label_unique_len = len(np.unique(cluster_labels))\n",
    "    cluster_color = np.random.rand(cluster_label_unique_len, 3)  \n",
    "\n",
    "    ## Plot point\n",
    "    point_color = cluster_color[cluster_labels]\n",
    "    for i in range(data.shape[0]):\n",
    "        point = data[i]\n",
    "        plt.scatter(point[0], point[1], marker=\"o\", c=[point_color[i]])\n",
    "\n",
    "     ## plot cluster center\n",
    "    plt.scatter(cluster_center[:,0], cluster_center[:,1], marker=\"x\", c=[[0,0,0]])\n",
    "\n",
    "    plt.show()"
   ]
  },
  {
   "cell_type": "code",
   "execution_count": 20,
   "metadata": {},
   "outputs": [
    {
     "data": {
      "image/png": "[encoded data removed]",
      "text/plain": [
       "<Figure size 1120x960 with 1 Axes>"
      ]
     },
     "metadata": {
      "needs_background": "light"
     },
     "output_type": "display_data"
    }
   ],
   "source": [
    "plot_points(cluster_labels, cluster_center, data)"
   ]
  },
  {
   "cell_type": "code",
   "execution_count": null,
   "metadata": {},
   "outputs": [],
   "source": []
  }
 ],
 "metadata": {
  "interpreter": {
   "hash": "24a0d0fc3f7a901dab7220e60972e3cb154c6a90a7ebbbcfc9ff5a79746caeaa"
  },
  "kernelspec": {
   "display_name": "Python 3.6.13 ('monigate')",
   "language": "python",
   "name": "python3"
  },
  "language_info": {
   "codemirror_mode": {
    "name": "ipython",
    "version": 3
   },
   "file_extension": ".py",
   "mimetype": "text/x-python",
   "name": "python",
   "nbconvert_exporter": "python",
   "pygments_lexer": "ipython3",
   "version": "3.6.13"
  },
  "orig_nbformat": 4
 },
 "nbformat": 4,
 "nbformat_minor": 2
}
