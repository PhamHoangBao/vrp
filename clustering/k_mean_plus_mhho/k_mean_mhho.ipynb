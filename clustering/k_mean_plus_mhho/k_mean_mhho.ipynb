{
 "cells": [
  {
   "cell_type": "code",
   "execution_count": 1,
   "metadata": {},
   "outputs": [],
   "source": [
    "import numpy as np\n",
    "import matplotlib.pyplot as plt\n",
    "import os"
   ]
  },
  {
   "cell_type": "markdown",
   "metadata": {},
   "source": [
    "# Reading data"
   ]
  },
  {
   "cell_type": "code",
   "execution_count": null,
   "metadata": {},
   "outputs": [],
   "source": [
    "class VRPData:\n",
    "    def __init__(self, name, type, dimension, edge_weight_type, capacity, node_coord_section):\n",
    "        self.name = name\n",
    "        self.type = type\n",
    "        self.dimension = dimension\n",
    "        self.edge_weight_type = edge_weight_type\n",
    "        self.capacity = capacity\n",
    "        self.node_coord_section = node_coord_section\n",
    "\n"
   ]
  },
  {
   "cell_type": "code",
   "execution_count": null,
   "metadata": {},
   "outputs": [],
   "source": []
  }
 ],
 "metadata": {
  "interpreter": {
   "hash": "24a0d0fc3f7a901dab7220e60972e3cb154c6a90a7ebbbcfc9ff5a79746caeaa"
  },
  "kernelspec": {
   "display_name": "Python 3.6.13 ('monigate')",
   "language": "python",
   "name": "python3"
  },
  "language_info": {
   "codemirror_mode": {
    "name": "ipython",
    "version": 3
   },
   "file_extension": ".py",
   "mimetype": "text/x-python",
   "name": "python",
   "nbconvert_exporter": "python",
   "pygments_lexer": "ipython3",
   "version": "3.6.13"
  },
  "orig_nbformat": 4
 },
 "nbformat": 4,
 "nbformat_minor": 2
}
