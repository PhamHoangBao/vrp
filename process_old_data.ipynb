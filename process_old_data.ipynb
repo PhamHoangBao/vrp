{
 "cells": [
  {
   "cell_type": "code",
   "execution_count": 1,
   "metadata": {},
   "outputs": [],
   "source": [
    "from tsp.ahaco.ahaco import process_violation\n",
    "import re\n",
    "import pandas as pd\n",
    "import numpy as np"
   ]
  },
  {
   "cell_type": "code",
   "execution_count": 2,
   "metadata": {},
   "outputs": [],
   "source": [
    "### LẤY ĐƯỜNG DẪN CỦA FILE CSV BỎ VÔ ĐÂY NHA ###\n",
    "input_file_path = \"D:\\\\Logistic_code\\\\code\\\\vrp\\\\clustering\\\\fuzzy_c_mean\\\\data\\\\data.csv\"\n",
    "\n",
    "### LẤY ĐƯỜNG DẪN CỦA FILE OUTPUT CŨ MÀ MÌNH XUẤT RA LÚC TRƯỚC BỎ VÔ ĐÂY NHA ###\n",
    "result_file_path = \"D:\\\\Logistic_code\\\\code\\\\vrp\\\\clustering\\\\fuzzy_c_mean\\\\data\\\\Input_2.txt\"\n",
    "\n",
    "### LẤY ĐƯỜNG DẪN FILE OUTPUT MỚI BỎ VÔ ĐÂY, CỨ ĐẶT TÊN BẤT KỲ, CHẠY CODE XONG SẼ TẠO RA FILE ĐÓ ###\n",
    "new_result_file_path = \"D:\\\\Logistic_code\\\\code\\\\vrp\\\\clustering\\\\fuzzy_c_mean\\\\kmean_data_new.txt\""
   ]
  },
  {
   "cell_type": "code",
   "execution_count": 3,
   "metadata": {},
   "outputs": [],
   "source": [
    "### VEHICLE CAPACITY CỦA XE ###\n",
    "vehicle_capacity = 5\n",
    "\n",
    "### PENALTY VALUE CỦA VIOLATION ###\n",
    "penalty_value = 1500"
   ]
  },
  {
   "cell_type": "code",
   "execution_count": 4,
   "metadata": {},
   "outputs": [],
   "source": [
    "# route_regex = \"Route [0-9]+\"\n",
    "# cost_regex = \"Total cost :\"\n",
    "# new_record = \"\"\n",
    "def export_new_data(data_path_file, capacity, penalty_value=1500):\n",
    "    route_regex = \"Route [0-9]+\"\n",
    "    cost_regex = \"Total cost :\"\n",
    "    new_record = \"\"\n",
    "    dataframe = pd.read_csv(data_path_file)\n",
    "    data = dataframe.to_numpy()\n",
    "    result_file = open(result_file_path, \"r\")\n",
    "    lines = result_file.readlines()\n",
    "    cost_matchObj = re.match(cost_regex, lines[len(lines) - 1], re.M|re.I)\n",
    "    print(lines[len(lines) - 1])\n",
    "    print(cost_matchObj)\n",
    "    total_cost = float(lines[len(lines) - 1][len(cost_matchObj.group()):].strip())\n",
    "    total_cost_with_violation_rate = total_cost\n",
    "    for route_line_index in range(len(lines) - 1):\n",
    "        route = lines[route_line_index]\n",
    "        route_matchObj = re.match(route_regex, route, re.M|re.I)\n",
    "        # print(route[len(route_matchObj.group()) + 2:].strip().split())\n",
    "        city_list = list(map(int, route[len(route_matchObj.group()) + 2:].strip().split()))\n",
    "        total_demand = np.sum(data[city_list][:,2])\n",
    "        violation_rate = (total_demand - capacity) / capacity\n",
    "        if violation_rate < 0:\n",
    "            violation_rate = 0\n",
    "        new_record = new_record + route[:-1] + f\" Violation rate {(violation_rate * 100):.2f}%\" + \"\\n\"\n",
    "        total_cost_with_violation_rate = total_cost_with_violation_rate + penalty_value * violation_rate\n",
    "    new_record = new_record + f\"Total cost : {total_cost:.2f}\" + \"\\n\"\n",
    "    new_record = new_record + f\"Total cost with violation :{total_cost_with_violation_rate:.2f}\" + \"\\n\"\n",
    "    return new_record\n"
   ]
  },
  {
   "cell_type": "code",
   "execution_count": 5,
   "metadata": {},
   "outputs": [
    {
     "name": "stdout",
     "output_type": "stream",
     "text": [
      "Total cost : 105618.52\n",
      "<_sre.SRE_Match object; span=(0, 12), match='Total cost :'>\n"
     ]
    },
    {
     "ename": "AttributeError",
     "evalue": "'NoneType' object has no attribute 'group'",
     "output_type": "error",
     "traceback": [
      "\u001b[1;31m---------------------------------------------------------------------------\u001b[0m",
      "\u001b[1;31mAttributeError\u001b[0m                            Traceback (most recent call last)",
      "\u001b[1;32m<ipython-input-5-6e825892db2e>\u001b[0m in \u001b[0;36m<module>\u001b[1;34m\u001b[0m\n\u001b[1;32m----> 1\u001b[1;33m \u001b[0mnew_record\u001b[0m \u001b[1;33m=\u001b[0m \u001b[0mexport_new_data\u001b[0m\u001b[1;33m(\u001b[0m\u001b[0minput_file_path\u001b[0m\u001b[1;33m,\u001b[0m \u001b[0mcapacity\u001b[0m\u001b[1;33m=\u001b[0m\u001b[0mvehicle_capacity\u001b[0m\u001b[1;33m,\u001b[0m \u001b[0mpenalty_value\u001b[0m\u001b[1;33m=\u001b[0m\u001b[0mpenalty_value\u001b[0m\u001b[1;33m)\u001b[0m\u001b[1;33m\u001b[0m\u001b[1;33m\u001b[0m\u001b[0m\n\u001b[0m",
      "\u001b[1;32m<ipython-input-4-e207cbd293cf>\u001b[0m in \u001b[0;36mexport_new_data\u001b[1;34m(data_path_file, capacity, penalty_value)\u001b[0m\n\u001b[0;32m     19\u001b[0m         \u001b[0mroute_matchObj\u001b[0m \u001b[1;33m=\u001b[0m \u001b[0mre\u001b[0m\u001b[1;33m.\u001b[0m\u001b[0mmatch\u001b[0m\u001b[1;33m(\u001b[0m\u001b[0mroute_regex\u001b[0m\u001b[1;33m,\u001b[0m \u001b[0mroute\u001b[0m\u001b[1;33m,\u001b[0m \u001b[0mre\u001b[0m\u001b[1;33m.\u001b[0m\u001b[0mM\u001b[0m\u001b[1;33m|\u001b[0m\u001b[0mre\u001b[0m\u001b[1;33m.\u001b[0m\u001b[0mI\u001b[0m\u001b[1;33m)\u001b[0m\u001b[1;33m\u001b[0m\u001b[1;33m\u001b[0m\u001b[0m\n\u001b[0;32m     20\u001b[0m         \u001b[1;31m# print(route[len(route_matchObj.group()) + 2:].strip().split())\u001b[0m\u001b[1;33m\u001b[0m\u001b[1;33m\u001b[0m\u001b[1;33m\u001b[0m\u001b[0m\n\u001b[1;32m---> 21\u001b[1;33m         \u001b[0mcity_list\u001b[0m \u001b[1;33m=\u001b[0m \u001b[0mlist\u001b[0m\u001b[1;33m(\u001b[0m\u001b[0mmap\u001b[0m\u001b[1;33m(\u001b[0m\u001b[0mint\u001b[0m\u001b[1;33m,\u001b[0m \u001b[0mroute\u001b[0m\u001b[1;33m[\u001b[0m\u001b[0mlen\u001b[0m\u001b[1;33m(\u001b[0m\u001b[0mroute_matchObj\u001b[0m\u001b[1;33m.\u001b[0m\u001b[0mgroup\u001b[0m\u001b[1;33m(\u001b[0m\u001b[1;33m)\u001b[0m\u001b[1;33m)\u001b[0m \u001b[1;33m+\u001b[0m \u001b[1;36m2\u001b[0m\u001b[1;33m:\u001b[0m\u001b[1;33m]\u001b[0m\u001b[1;33m.\u001b[0m\u001b[0mstrip\u001b[0m\u001b[1;33m(\u001b[0m\u001b[1;33m)\u001b[0m\u001b[1;33m.\u001b[0m\u001b[0msplit\u001b[0m\u001b[1;33m(\u001b[0m\u001b[1;33m)\u001b[0m\u001b[1;33m)\u001b[0m\u001b[1;33m)\u001b[0m\u001b[1;33m\u001b[0m\u001b[1;33m\u001b[0m\u001b[0m\n\u001b[0m\u001b[0;32m     22\u001b[0m         \u001b[0mtotal_demand\u001b[0m \u001b[1;33m=\u001b[0m \u001b[0mnp\u001b[0m\u001b[1;33m.\u001b[0m\u001b[0msum\u001b[0m\u001b[1;33m(\u001b[0m\u001b[0mdata\u001b[0m\u001b[1;33m[\u001b[0m\u001b[0mcity_list\u001b[0m\u001b[1;33m]\u001b[0m\u001b[1;33m[\u001b[0m\u001b[1;33m:\u001b[0m\u001b[1;33m,\u001b[0m\u001b[1;36m2\u001b[0m\u001b[1;33m]\u001b[0m\u001b[1;33m)\u001b[0m\u001b[1;33m\u001b[0m\u001b[1;33m\u001b[0m\u001b[0m\n\u001b[0;32m     23\u001b[0m         \u001b[0mviolation_rate\u001b[0m \u001b[1;33m=\u001b[0m \u001b[1;33m(\u001b[0m\u001b[0mtotal_demand\u001b[0m \u001b[1;33m-\u001b[0m \u001b[0mcapacity\u001b[0m\u001b[1;33m)\u001b[0m \u001b[1;33m/\u001b[0m \u001b[0mcapacity\u001b[0m\u001b[1;33m\u001b[0m\u001b[1;33m\u001b[0m\u001b[0m\n",
      "\u001b[1;31mAttributeError\u001b[0m: 'NoneType' object has no attribute 'group'"
     ]
    }
   ],
   "source": [
    "new_record = export_new_data(input_file_path, capacity=vehicle_capacity, penalty_value=penalty_value)"
   ]
  },
  {
   "cell_type": "code",
   "execution_count": 14,
   "metadata": {},
   "outputs": [],
   "source": [
    "# new_sol_data_file = \"D:\\\\Logistic_code\\\\code\\\\vrp\\\\clustering\\\\fuzzy_c_mean\\\\abc.txt\"\n",
    "with open(new_result_file_path, 'w') as f:\n",
    "    f.write(new_record) "
   ]
  },
  {
   "cell_type": "code",
   "execution_count": null,
   "metadata": {},
   "outputs": [],
   "source": []
  }
 ],
 "metadata": {
  "interpreter": {
   "hash": "f1d2db5728455cace62d71bb797d872179f0b03bf9c6d31e6d91ff5e9bbdaa30"
  },
  "kernelspec": {
   "display_name": "Python 3.6.13 ('monigate')",
   "language": "python",
   "name": "python3"
  },
  "language_info": {
   "codemirror_mode": {
    "name": "ipython",
    "version": 3
   },
   "file_extension": ".py",
   "mimetype": "text/x-python",
   "name": "python",
   "nbconvert_exporter": "python",
   "pygments_lexer": "ipython3",
   "version": "3.6.13"
  },
  "orig_nbformat": 4
 },
 "nbformat": 4,
 "nbformat_minor": 2
}
